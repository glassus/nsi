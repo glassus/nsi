{
 "cells": [
  {
   "cell_type": "markdown",
   "metadata": {},
   "source": [
    "# Devoir Bilan n°1 - 05/11/2019"
   ]
  },
  {
   "cell_type": "markdown",
   "metadata": {},
   "source": [
    "## Exercice 1\n",
    "Ecrire un code permettant d'afficher successivement toutes les valeurs de la liste `maliste`."
   ]
  },
  {
   "cell_type": "code",
   "execution_count": null,
   "metadata": {},
   "outputs": [],
   "source": [
    "maliste = [3, 5, 13, 5, 9]"
   ]
  },
  {
   "cell_type": "markdown",
   "metadata": {},
   "source": [
    "*correction*"
   ]
  },
  {
   "cell_type": "code",
   "execution_count": null,
   "metadata": {},
   "outputs": [],
   "source": [
    "for k in maliste :\n",
    "    print(k)"
   ]
  },
  {
   "cell_type": "markdown",
   "metadata": {},
   "source": [
    "## Exercice 2\n",
    "Ecrire un code affichant tous les nombres compris entre 100 et 1000 à la fois divisibles par 13 et par 17."
   ]
  },
  {
   "cell_type": "markdown",
   "metadata": {},
   "source": [
    "*correction*"
   ]
  },
  {
   "cell_type": "code",
   "execution_count": 1,
   "metadata": {},
   "outputs": [
    {
     "name": "stdout",
     "output_type": "stream",
     "text": [
      "221\n",
      "442\n",
      "663\n",
      "884\n"
     ]
    }
   ],
   "source": [
    "for k in range(100,1001) :\n",
    "    if (k % 13 == 0) and (k % 17 == 0) :\n",
    "        print(k)"
   ]
  },
  {
   "cell_type": "markdown",
   "metadata": {},
   "source": [
    "## Exercice 3\n",
    "Écrire un code permettant de stocker dans une liste appelée `maliste` les mots issus de la liste `vrac` qui contiennent au moins une fois la lettre \"a\"."
   ]
  },
  {
   "cell_type": "code",
   "execution_count": 2,
   "metadata": {},
   "outputs": [],
   "source": [
    "vrac = [\"nécessaire\", \"avion\", \"imaginer\",\"obsessions\", \"voitures\", \"manière\", \"monde\", \"tondeuses\", \"pincée\", \"connue\",\n",
    "        \"beau\", \"cinéma\", \"nombre\", \"narrateur\", \"échec\", \"matière\", \"français\", \"salle\", \"pasteur\", \"amour\"]"
   ]
  },
  {
   "cell_type": "markdown",
   "metadata": {},
   "source": [
    "*correction*"
   ]
  },
  {
   "cell_type": "code",
   "execution_count": 3,
   "metadata": {},
   "outputs": [],
   "source": [
    "maliste = []\n",
    "for mot in vrac :\n",
    "    if \"a\" in mot :\n",
    "        maliste.append(mot)"
   ]
  },
  {
   "cell_type": "code",
   "execution_count": 4,
   "metadata": {},
   "outputs": [
    {
     "data": {
      "text/plain": [
       "['nécessaire',\n",
       " 'avion',\n",
       " 'imaginer',\n",
       " 'manière',\n",
       " 'beau',\n",
       " 'cinéma',\n",
       " 'narrateur',\n",
       " 'matière',\n",
       " 'français',\n",
       " 'salle',\n",
       " 'pasteur',\n",
       " 'amour']"
      ]
     },
     "execution_count": 4,
     "metadata": {},
     "output_type": "execute_result"
    }
   ],
   "source": [
    "maliste"
   ]
  },
  {
   "cell_type": "markdown",
   "metadata": {},
   "source": [
    "## Exercice 4\n",
    "Créer une  fonction `carre(n)` de manière à ce que le programme ci-contre affiche :"
   ]
  },
  {
   "cell_type": "markdown",
   "metadata": {},
   "source": [
    "l'aire du carré de côté  1  cm est égale à  1 cm²  \n",
    "l'aire du carré de côté  2  cm est égale à  4 cm²  \n",
    "l'aire du carré de côté  3  cm est égale à  9 cm²  \n",
    "l'aire du carré de côté  4  cm est égale à  16 cm²  \n",
    "l'aire du carré de côté  5  cm est égale à  25 cm²  \n",
    "l'aire du carré de côté  6  cm est égale à  36 cm²  \n",
    "l'aire du carré de côté  7  cm est égale à  49 cm²  \n",
    "l'aire du carré de côté  8  cm est égale à  64 cm²  \n",
    "l'aire du carré de côté  9  cm est égale à  81 cm²"
   ]
  },
  {
   "cell_type": "code",
   "execution_count": null,
   "metadata": {},
   "outputs": [],
   "source": [
    "# créez votre fonction ici.\n",
    "\n",
    "\n",
    "# vous n'avez pas le droit de toucher aux lignes ci-dessous\n",
    "for n in range(1,10) :\n",
    "    print(\"l'aire du carré de côté \", n, \" cm\", \"est égale à \", carre(n), \"cm²\" )"
   ]
  },
  {
   "cell_type": "markdown",
   "metadata": {},
   "source": [
    "*correction*"
   ]
  },
  {
   "cell_type": "code",
   "execution_count": null,
   "metadata": {},
   "outputs": [],
   "source": [
    "def carre(n) :\n",
    "    return n*n\n",
    "\n",
    "for n in range(1,10) :\n",
    "    print(\"l'aire du carré de côté \", n, \" cm\", \"est égale à \", carre(n), \"cm²\" )"
   ]
  },
  {
   "cell_type": "markdown",
   "metadata": {},
   "source": [
    "## Exercice 5\n",
    "Créer une fonction `loga(n)` qui renvoie l'exposant de la plus grande puissance de 2 inférieure à n.\n",
    "\n",
    "Exemples d'utilisation :"
   ]
  },
  {
   "cell_type": "markdown",
   "metadata": {},
   "source": [
    "loga(9)=3 car 2**3=8  \n",
    "loga(14)=3 car 2**3=8  \n",
    "loga(16)=4 car 2**4=16  \n",
    "loga(19)=4 car 2**4=16  \n",
    "loga(150)=7 car 2**7=128  \n",
    "loga(2019)=10 car 2**10=1024"
   ]
  },
  {
   "cell_type": "markdown",
   "metadata": {},
   "source": [
    "*correction*"
   ]
  },
  {
   "cell_type": "code",
   "execution_count": 8,
   "metadata": {},
   "outputs": [],
   "source": [
    "def loga(n) :\n",
    "    k = 0\n",
    "    while 2** k < n :\n",
    "        k += 1\n",
    "    return k - 1"
   ]
  },
  {
   "cell_type": "markdown",
   "metadata": {},
   "source": [
    "## Exercice 6\n",
    "Écrire le code permettant de trouver le mot caché dans la variable secret.\n",
    "La méthode cryptographique utilisée est un décalage (d'un nombre inconnu), type cryptage de César."
   ]
  },
  {
   "cell_type": "code",
   "execution_count": 12,
   "metadata": {},
   "outputs": [],
   "source": [
    "alphabet = ['a', 'b', 'c', 'd', 'e', 'f', 'g', 'h', 'i', 'j', 'k', 'l', 'm', 'n', 'o', 'p', 'q', 'r', 's', 't', 'u', 'v', 'w', 'x', 'y', 'z']\n",
    "\n",
    "secret = \"rcxfizkydv\""
   ]
  },
  {
   "cell_type": "markdown",
   "metadata": {},
   "source": [
    "*correction*"
   ]
  },
  {
   "cell_type": "code",
   "execution_count": 22,
   "metadata": {},
   "outputs": [
    {
     "name": "stdout",
     "output_type": "stream",
     "text": [
      "rcxfizkydv\n",
      "sdygjalzew\n",
      "tezhkbmafx\n",
      "ufailcnbgy\n",
      "vgbjmdochz\n",
      "whcknepdia\n",
      "xidlofqejb\n",
      "yjempgrfkc\n",
      "zkfnqhsgld\n",
      "algorithme\n",
      "bmhpsjuinf\n",
      "cniqtkvjog\n",
      "dojrulwkph\n",
      "epksvmxlqi\n",
      "fqltwnymrj\n",
      "grmuxoznsk\n",
      "hsnvypaotl\n",
      "itowzqbpum\n",
      "jupxarcqvn\n",
      "kvqybsdrwo\n",
      "lwrzctesxp\n",
      "mxsaduftyq\n",
      "nytbevguzr\n",
      "ozucfwhvas\n",
      "pavdgxiwbt\n",
      "qbwehyjxcu\n"
     ]
    }
   ],
   "source": [
    "def decale_lettre(l, dec) :\n",
    "    k = ord(l) + dec\n",
    "    if k > ord(\"z\") : \n",
    "        k = k - 26\n",
    "    return chr(k)\n",
    "\n",
    "def decale_mot(mot, dec) :\n",
    "    k = \"\"\n",
    "    for lettre in mot :\n",
    "        k = k + decale_lettre(lettre, dec)\n",
    "    return k\n",
    "\n",
    "for dec in range(0,26) :\n",
    "    essai = decale_mot(secret, dec)\n",
    "    print(essai)"
   ]
  },
  {
   "cell_type": "markdown",
   "metadata": {},
   "source": [
    "Le mot cherché est donc \"algorithme\"."
   ]
  },
  {
   "cell_type": "code",
   "execution_count": null,
   "metadata": {},
   "outputs": [],
   "source": []
  },
  {
   "cell_type": "code",
   "execution_count": null,
   "metadata": {},
   "outputs": [],
   "source": []
  },
  {
   "cell_type": "code",
   "execution_count": null,
   "metadata": {},
   "outputs": [],
   "source": []
  },
  {
   "cell_type": "code",
   "execution_count": null,
   "metadata": {},
   "outputs": [],
   "source": []
  },
  {
   "cell_type": "code",
   "execution_count": null,
   "metadata": {},
   "outputs": [],
   "source": []
  },
  {
   "cell_type": "code",
   "execution_count": null,
   "metadata": {},
   "outputs": [],
   "source": []
  },
  {
   "cell_type": "code",
   "execution_count": null,
   "metadata": {},
   "outputs": [],
   "source": []
  }
 ],
 "metadata": {
  "kernelspec": {
   "display_name": "Python 3 (ipykernel)",
   "language": "python",
   "name": "python3"
  },
  "language_info": {
   "codemirror_mode": {
    "name": "ipython",
    "version": 2
   },
   "file_extension": ".py",
   "mimetype": "text/x-python",
   "name": "python",
   "nbconvert_exporter": "python",
   "pygments_lexer": "ipython2",
   "version": "2.7.18"
  },
  "toc": {
   "base_numbering": 1,
   "nav_menu": {},
   "number_sections": true,
   "sideBar": true,
   "skip_h1_title": false,
   "title_cell": "Table of Contents",
   "title_sidebar": "Contents",
   "toc_cell": false,
   "toc_position": {},
   "toc_section_display": true,
   "toc_window_display": false
  }
 },
 "nbformat": 4,
 "nbformat_minor": 2
}
