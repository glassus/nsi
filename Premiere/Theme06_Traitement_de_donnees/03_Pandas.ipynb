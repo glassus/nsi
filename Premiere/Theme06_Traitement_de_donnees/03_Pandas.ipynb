{
 "cells": [
  {
   "cell_type": "markdown",
   "metadata": {
    "colab_type": "text",
    "id": "7dRRgeurao6T"
   },
   "source": [
    "**A lire à \n",
    "la première ouverture de ce fichier :**\n",
    "\n",
    "\n",
    "* Ce fichier est en Lecture seule. Vous ne pouvez pas exécutez les cellules ni le modifier. \n",
    "\n",
    "Pour cette raison :   \n",
    "* Faites-en une copie par Fichier / Enregistrer une copie dans Drive\n",
    "*   Renommer le fichier en Prenom_Nom_03_Pandas_eleves.ipynb\n",
    "* Partagez (en haut à droite) ce notebook avec le compte nsi.glassus@gmail.com afin que j'ai une visibilité sur votre travail. Faites bien attention à m'accorder un partage avec droit de modification.\n",
    "* Vous pouvez maintenant éxecuter, modifier les cellules, répondre aux questions...\n",
    "* Et je peux moi venir en temps réel voir votre travail et écrire dans vos cellules.\n",
    "\n",
    "\n"
   ]
  },
  {
   "cell_type": "markdown",
   "metadata": {
    "colab_type": "text",
    "id": "emk6sw0OaVxc"
   },
   "source": [
    "# Utilisation du module Pandas\n",
    "Le module `csv` utilisé précédemment se contente de lire les données structurées. Il ne fait aucun effort particulier pour analyser les données. Nous nous en sommes aperçus lorsqu'il a fallu convertir par `int()` toutes les valeurs numériques, qui étaient interprétées comme des chaînes de caractères.  \n",
    "La bibliothèque `pandas` est par contre spécialement conçue pour l'analyse des données (*data analysis*) : elle est donc naturellement bien plus performante."
   ]
  },
  {
   "cell_type": "code",
   "execution_count": 0,
   "metadata": {
    "colab": {},
    "colab_type": "code",
    "id": "L9Yp-3USaVyY"
   },
   "outputs": [],
   "source": [
    "import pandas as pd #import du module pandas, abrégé classiquement par \"pd\""
   ]
  },
  {
   "cell_type": "code",
   "execution_count": 0,
   "metadata": {
    "colab": {},
    "colab_type": "code",
    "id": "W9JdmXZiaVzo"
   },
   "outputs": [],
   "source": [
    "df = pd.read_csv('http://glassus1.free.fr/top14.csv', encoding = 'utf-8')"
   ]
  },
  {
   "cell_type": "markdown",
   "metadata": {
    "colab_type": "text",
    "id": "hLY3q0vEaVz4"
   },
   "source": [
    "La variable est nommée classiquement `df` pour *dataframe* (que l'on peut traduire par *table de données*)"
   ]
  },
  {
   "cell_type": "code",
   "execution_count": 3,
   "metadata": {
    "colab": {
     "base_uri": "https://localhost:8080/",
     "height": 35
    },
    "colab_type": "code",
    "id": "h310TURAaVz7",
    "outputId": "bd0f51db-0f55-43aa-b0c6-439232f3bb62"
   },
   "outputs": [
    {
     "data": {
      "text/plain": [
       "pandas.core.frame.DataFrame"
      ]
     },
     "execution_count": 3,
     "metadata": {
      "tags": []
     },
     "output_type": "execute_result"
    }
   ],
   "source": [
    "type(df)"
   ]
  },
  {
   "cell_type": "markdown",
   "metadata": {
    "colab_type": "text",
    "id": "lTTRshytaV0P"
   },
   "source": [
    "## Premiers renseignements sur les fichiers de données"
   ]
  },
  {
   "cell_type": "markdown",
   "metadata": {
    "colab_type": "text",
    "id": "G7BhHDnvaV0S"
   },
   "source": [
    "Que contient la variable `df`?"
   ]
  },
  {
   "cell_type": "code",
   "execution_count": 4,
   "metadata": {
    "colab": {
     "base_uri": "https://localhost:8080/",
     "height": 424
    },
    "colab_type": "code",
    "id": "9l4V561kaV0W",
    "outputId": "ad37fa3f-b8d6-419a-8a93-8cf9d52ff65c"
   },
   "outputs": [
    {
     "data": {
      "text/html": [
       "<div>\n",
       "<style scoped>\n",
       "    .dataframe tbody tr th:only-of-type {\n",
       "        vertical-align: middle;\n",
       "    }\n",
       "\n",
       "    .dataframe tbody tr th {\n",
       "        vertical-align: top;\n",
       "    }\n",
       "\n",
       "    .dataframe thead th {\n",
       "        text-align: right;\n",
       "    }\n",
       "</style>\n",
       "<table border=\"1\" class=\"dataframe\">\n",
       "  <thead>\n",
       "    <tr style=\"text-align: right;\">\n",
       "      <th></th>\n",
       "      <th>Equipe</th>\n",
       "      <th>Nom</th>\n",
       "      <th>Poste</th>\n",
       "      <th>Date de naissance</th>\n",
       "      <th>Taille</th>\n",
       "      <th>Poids</th>\n",
       "    </tr>\n",
       "  </thead>\n",
       "  <tbody>\n",
       "    <tr>\n",
       "      <th>0</th>\n",
       "      <td>Agen</td>\n",
       "      <td>Anton PEIKRISHVILI</td>\n",
       "      <td>Pilier</td>\n",
       "      <td>18/09/1987</td>\n",
       "      <td>183</td>\n",
       "      <td>122</td>\n",
       "    </tr>\n",
       "    <tr>\n",
       "      <th>1</th>\n",
       "      <td>Agen</td>\n",
       "      <td>Dave RYAN</td>\n",
       "      <td>Pilier</td>\n",
       "      <td>21/04/1986</td>\n",
       "      <td>183</td>\n",
       "      <td>116</td>\n",
       "    </tr>\n",
       "    <tr>\n",
       "      <th>2</th>\n",
       "      <td>Agen</td>\n",
       "      <td>Giorgi TETRASHVILI</td>\n",
       "      <td>Pilier</td>\n",
       "      <td>31/08/1993</td>\n",
       "      <td>177</td>\n",
       "      <td>112</td>\n",
       "    </tr>\n",
       "    <tr>\n",
       "      <th>3</th>\n",
       "      <td>Agen</td>\n",
       "      <td>Kamaliele TUFELE</td>\n",
       "      <td>Pilier</td>\n",
       "      <td>11/10/1995</td>\n",
       "      <td>182</td>\n",
       "      <td>123</td>\n",
       "    </tr>\n",
       "    <tr>\n",
       "      <th>4</th>\n",
       "      <td>Agen</td>\n",
       "      <td>Malino VANAÏ</td>\n",
       "      <td>Pilier</td>\n",
       "      <td>04/05/1993</td>\n",
       "      <td>183</td>\n",
       "      <td>119</td>\n",
       "    </tr>\n",
       "    <tr>\n",
       "      <th>...</th>\n",
       "      <td>...</td>\n",
       "      <td>...</td>\n",
       "      <td>...</td>\n",
       "      <td>...</td>\n",
       "      <td>...</td>\n",
       "      <td>...</td>\n",
       "    </tr>\n",
       "    <tr>\n",
       "      <th>590</th>\n",
       "      <td>Toulouse</td>\n",
       "      <td>Werner KOK</td>\n",
       "      <td>Ailier</td>\n",
       "      <td>27/01/1993</td>\n",
       "      <td>177</td>\n",
       "      <td>78</td>\n",
       "    </tr>\n",
       "    <tr>\n",
       "      <th>591</th>\n",
       "      <td>Toulouse</td>\n",
       "      <td>Yoann HUGET</td>\n",
       "      <td>Ailier</td>\n",
       "      <td>02/06/1987</td>\n",
       "      <td>190</td>\n",
       "      <td>97</td>\n",
       "    </tr>\n",
       "    <tr>\n",
       "      <th>592</th>\n",
       "      <td>Toulouse</td>\n",
       "      <td>Matthis LEBEL</td>\n",
       "      <td>Arrière</td>\n",
       "      <td>25/03/1999</td>\n",
       "      <td>185</td>\n",
       "      <td>91</td>\n",
       "    </tr>\n",
       "    <tr>\n",
       "      <th>593</th>\n",
       "      <td>Toulouse</td>\n",
       "      <td>Maxime MÉDARD</td>\n",
       "      <td>Arrière</td>\n",
       "      <td>16/11/1986</td>\n",
       "      <td>180</td>\n",
       "      <td>85</td>\n",
       "    </tr>\n",
       "    <tr>\n",
       "      <th>594</th>\n",
       "      <td>Toulouse</td>\n",
       "      <td>Thomas RAMOS</td>\n",
       "      <td>Arrière</td>\n",
       "      <td>23/07/1995</td>\n",
       "      <td>178</td>\n",
       "      <td>86</td>\n",
       "    </tr>\n",
       "  </tbody>\n",
       "</table>\n",
       "<p>595 rows × 6 columns</p>\n",
       "</div>"
      ],
      "text/plain": [
       "       Equipe                 Nom    Poste Date de naissance  Taille  Poids\n",
       "0        Agen  Anton PEIKRISHVILI   Pilier        18/09/1987     183    122\n",
       "1        Agen           Dave RYAN   Pilier        21/04/1986     183    116\n",
       "2        Agen  Giorgi TETRASHVILI   Pilier        31/08/1993     177    112\n",
       "3        Agen    Kamaliele TUFELE   Pilier        11/10/1995     182    123\n",
       "4        Agen        Malino VANAÏ   Pilier        04/05/1993     183    119\n",
       "..        ...                 ...      ...               ...     ...    ...\n",
       "590  Toulouse          Werner KOK   Ailier        27/01/1993     177     78\n",
       "591  Toulouse         Yoann HUGET   Ailier        02/06/1987     190     97\n",
       "592  Toulouse       Matthis LEBEL  Arrière        25/03/1999     185     91\n",
       "593  Toulouse       Maxime MÉDARD  Arrière        16/11/1986     180     85\n",
       "594  Toulouse        Thomas RAMOS  Arrière        23/07/1995     178     86\n",
       "\n",
       "[595 rows x 6 columns]"
      ]
     },
     "execution_count": 4,
     "metadata": {
      "tags": []
     },
     "output_type": "execute_result"
    }
   ],
   "source": [
    "df"
   ]
  },
  {
   "cell_type": "markdown",
   "metadata": {
    "colab_type": "text",
    "id": "vHakvyjsaV0j"
   },
   "source": [
    "Les données sont présentées dans l'ordre originel du fichier. \n",
    "Il est possible d'avoir uniquement les premières lignes du fichier avec la commande `head()` et les dernières du fichier avec la commande `tail()`. Ces commandes peuvent recevoir en paramètre un nombre entier."
   ]
  },
  {
   "cell_type": "code",
   "execution_count": 5,
   "metadata": {
    "colab": {
     "base_uri": "https://localhost:8080/",
     "height": 206
    },
    "colab_type": "code",
    "id": "ffxCWRv-aV0m",
    "outputId": "09c59d55-73f2-4ddf-ed05-b2a0813cba8a"
   },
   "outputs": [
    {
     "data": {
      "text/html": [
       "<div>\n",
       "<style scoped>\n",
       "    .dataframe tbody tr th:only-of-type {\n",
       "        vertical-align: middle;\n",
       "    }\n",
       "\n",
       "    .dataframe tbody tr th {\n",
       "        vertical-align: top;\n",
       "    }\n",
       "\n",
       "    .dataframe thead th {\n",
       "        text-align: right;\n",
       "    }\n",
       "</style>\n",
       "<table border=\"1\" class=\"dataframe\">\n",
       "  <thead>\n",
       "    <tr style=\"text-align: right;\">\n",
       "      <th></th>\n",
       "      <th>Equipe</th>\n",
       "      <th>Nom</th>\n",
       "      <th>Poste</th>\n",
       "      <th>Date de naissance</th>\n",
       "      <th>Taille</th>\n",
       "      <th>Poids</th>\n",
       "    </tr>\n",
       "  </thead>\n",
       "  <tbody>\n",
       "    <tr>\n",
       "      <th>0</th>\n",
       "      <td>Agen</td>\n",
       "      <td>Anton PEIKRISHVILI</td>\n",
       "      <td>Pilier</td>\n",
       "      <td>18/09/1987</td>\n",
       "      <td>183</td>\n",
       "      <td>122</td>\n",
       "    </tr>\n",
       "    <tr>\n",
       "      <th>1</th>\n",
       "      <td>Agen</td>\n",
       "      <td>Dave RYAN</td>\n",
       "      <td>Pilier</td>\n",
       "      <td>21/04/1986</td>\n",
       "      <td>183</td>\n",
       "      <td>116</td>\n",
       "    </tr>\n",
       "    <tr>\n",
       "      <th>2</th>\n",
       "      <td>Agen</td>\n",
       "      <td>Giorgi TETRASHVILI</td>\n",
       "      <td>Pilier</td>\n",
       "      <td>31/08/1993</td>\n",
       "      <td>177</td>\n",
       "      <td>112</td>\n",
       "    </tr>\n",
       "    <tr>\n",
       "      <th>3</th>\n",
       "      <td>Agen</td>\n",
       "      <td>Kamaliele TUFELE</td>\n",
       "      <td>Pilier</td>\n",
       "      <td>11/10/1995</td>\n",
       "      <td>182</td>\n",
       "      <td>123</td>\n",
       "    </tr>\n",
       "    <tr>\n",
       "      <th>4</th>\n",
       "      <td>Agen</td>\n",
       "      <td>Malino VANAÏ</td>\n",
       "      <td>Pilier</td>\n",
       "      <td>04/05/1993</td>\n",
       "      <td>183</td>\n",
       "      <td>119</td>\n",
       "    </tr>\n",
       "  </tbody>\n",
       "</table>\n",
       "</div>"
      ],
      "text/plain": [
       "  Equipe                 Nom   Poste Date de naissance  Taille  Poids\n",
       "0   Agen  Anton PEIKRISHVILI  Pilier        18/09/1987     183    122\n",
       "1   Agen           Dave RYAN  Pilier        21/04/1986     183    116\n",
       "2   Agen  Giorgi TETRASHVILI  Pilier        31/08/1993     177    112\n",
       "3   Agen    Kamaliele TUFELE  Pilier        11/10/1995     182    123\n",
       "4   Agen        Malino VANAÏ  Pilier        04/05/1993     183    119"
      ]
     },
     "execution_count": 5,
     "metadata": {
      "tags": []
     },
     "output_type": "execute_result"
    }
   ],
   "source": [
    "df.head()"
   ]
  },
  {
   "cell_type": "code",
   "execution_count": 7,
   "metadata": {
    "colab": {
     "base_uri": "https://localhost:8080/",
     "height": 206
    },
    "colab_type": "code",
    "id": "cnX7EHQxaV0w",
    "outputId": "57d91e89-eb49-4443-9d0c-5201f242831f"
   },
   "outputs": [
    {
     "data": {
      "text/html": [
       "<div>\n",
       "<style scoped>\n",
       "    .dataframe tbody tr th:only-of-type {\n",
       "        vertical-align: middle;\n",
       "    }\n",
       "\n",
       "    .dataframe tbody tr th {\n",
       "        vertical-align: top;\n",
       "    }\n",
       "\n",
       "    .dataframe thead th {\n",
       "        text-align: right;\n",
       "    }\n",
       "</style>\n",
       "<table border=\"1\" class=\"dataframe\">\n",
       "  <thead>\n",
       "    <tr style=\"text-align: right;\">\n",
       "      <th></th>\n",
       "      <th>Equipe</th>\n",
       "      <th>Nom</th>\n",
       "      <th>Poste</th>\n",
       "      <th>Date de naissance</th>\n",
       "      <th>Taille</th>\n",
       "      <th>Poids</th>\n",
       "    </tr>\n",
       "  </thead>\n",
       "  <tbody>\n",
       "    <tr>\n",
       "      <th>590</th>\n",
       "      <td>Toulouse</td>\n",
       "      <td>Werner KOK</td>\n",
       "      <td>Ailier</td>\n",
       "      <td>27/01/1993</td>\n",
       "      <td>177</td>\n",
       "      <td>78</td>\n",
       "    </tr>\n",
       "    <tr>\n",
       "      <th>591</th>\n",
       "      <td>Toulouse</td>\n",
       "      <td>Yoann HUGET</td>\n",
       "      <td>Ailier</td>\n",
       "      <td>02/06/1987</td>\n",
       "      <td>190</td>\n",
       "      <td>97</td>\n",
       "    </tr>\n",
       "    <tr>\n",
       "      <th>592</th>\n",
       "      <td>Toulouse</td>\n",
       "      <td>Matthis LEBEL</td>\n",
       "      <td>Arrière</td>\n",
       "      <td>25/03/1999</td>\n",
       "      <td>185</td>\n",
       "      <td>91</td>\n",
       "    </tr>\n",
       "    <tr>\n",
       "      <th>593</th>\n",
       "      <td>Toulouse</td>\n",
       "      <td>Maxime MÉDARD</td>\n",
       "      <td>Arrière</td>\n",
       "      <td>16/11/1986</td>\n",
       "      <td>180</td>\n",
       "      <td>85</td>\n",
       "    </tr>\n",
       "    <tr>\n",
       "      <th>594</th>\n",
       "      <td>Toulouse</td>\n",
       "      <td>Thomas RAMOS</td>\n",
       "      <td>Arrière</td>\n",
       "      <td>23/07/1995</td>\n",
       "      <td>178</td>\n",
       "      <td>86</td>\n",
       "    </tr>\n",
       "  </tbody>\n",
       "</table>\n",
       "</div>"
      ],
      "text/plain": [
       "       Equipe            Nom    Poste Date de naissance  Taille  Poids\n",
       "590  Toulouse     Werner KOK   Ailier        27/01/1993     177     78\n",
       "591  Toulouse    Yoann HUGET   Ailier        02/06/1987     190     97\n",
       "592  Toulouse  Matthis LEBEL  Arrière        25/03/1999     185     91\n",
       "593  Toulouse  Maxime MÉDARD  Arrière        16/11/1986     180     85\n",
       "594  Toulouse   Thomas RAMOS  Arrière        23/07/1995     178     86"
      ]
     },
     "execution_count": 7,
     "metadata": {
      "tags": []
     },
     "output_type": "execute_result"
    }
   ],
   "source": [
    "df.tail()"
   ]
  },
  {
   "cell_type": "code",
   "execution_count": 6,
   "metadata": {
    "colab": {
     "base_uri": "https://localhost:8080/",
     "height": 143
    },
    "colab_type": "code",
    "id": "LcibjQkVaV07",
    "outputId": "ccff9aac-34c5-458e-c4e2-e0a3a2dd92f5"
   },
   "outputs": [
    {
     "data": {
      "text/html": [
       "<div>\n",
       "<style scoped>\n",
       "    .dataframe tbody tr th:only-of-type {\n",
       "        vertical-align: middle;\n",
       "    }\n",
       "\n",
       "    .dataframe tbody tr th {\n",
       "        vertical-align: top;\n",
       "    }\n",
       "\n",
       "    .dataframe thead th {\n",
       "        text-align: right;\n",
       "    }\n",
       "</style>\n",
       "<table border=\"1\" class=\"dataframe\">\n",
       "  <thead>\n",
       "    <tr style=\"text-align: right;\">\n",
       "      <th></th>\n",
       "      <th>Equipe</th>\n",
       "      <th>Nom</th>\n",
       "      <th>Poste</th>\n",
       "      <th>Date de naissance</th>\n",
       "      <th>Taille</th>\n",
       "      <th>Poids</th>\n",
       "    </tr>\n",
       "  </thead>\n",
       "  <tbody>\n",
       "    <tr>\n",
       "      <th>0</th>\n",
       "      <td>Agen</td>\n",
       "      <td>Anton PEIKRISHVILI</td>\n",
       "      <td>Pilier</td>\n",
       "      <td>18/09/1987</td>\n",
       "      <td>183</td>\n",
       "      <td>122</td>\n",
       "    </tr>\n",
       "    <tr>\n",
       "      <th>1</th>\n",
       "      <td>Agen</td>\n",
       "      <td>Dave RYAN</td>\n",
       "      <td>Pilier</td>\n",
       "      <td>21/04/1986</td>\n",
       "      <td>183</td>\n",
       "      <td>116</td>\n",
       "    </tr>\n",
       "    <tr>\n",
       "      <th>2</th>\n",
       "      <td>Agen</td>\n",
       "      <td>Giorgi TETRASHVILI</td>\n",
       "      <td>Pilier</td>\n",
       "      <td>31/08/1993</td>\n",
       "      <td>177</td>\n",
       "      <td>112</td>\n",
       "    </tr>\n",
       "  </tbody>\n",
       "</table>\n",
       "</div>"
      ],
      "text/plain": [
       "  Equipe                 Nom   Poste Date de naissance  Taille  Poids\n",
       "0   Agen  Anton PEIKRISHVILI  Pilier        18/09/1987     183    122\n",
       "1   Agen           Dave RYAN  Pilier        21/04/1986     183    116\n",
       "2   Agen  Giorgi TETRASHVILI  Pilier        31/08/1993     177    112"
      ]
     },
     "execution_count": 6,
     "metadata": {
      "tags": []
     },
     "output_type": "execute_result"
    }
   ],
   "source": [
    "df.head(3)"
   ]
  },
  {
   "cell_type": "markdown",
   "metadata": {
    "colab_type": "text",
    "id": "evMRdFilaV1G"
   },
   "source": [
    "Pour avoir des renseignements globaux sur la structure de notre fichier, on peut utiliser la commande `df.info()`"
   ]
  },
  {
   "cell_type": "code",
   "execution_count": 8,
   "metadata": {
    "colab": {
     "base_uri": "https://localhost:8080/",
     "height": 213
    },
    "colab_type": "code",
    "id": "7Vbi029jaV1J",
    "outputId": "4c5114d1-8d11-4208-f317-bdae5f96e79b"
   },
   "outputs": [
    {
     "name": "stdout",
     "output_type": "stream",
     "text": [
      "<class 'pandas.core.frame.DataFrame'>\n",
      "RangeIndex: 595 entries, 0 to 594\n",
      "Data columns (total 6 columns):\n",
      "Equipe               595 non-null object\n",
      "Nom                  595 non-null object\n",
      "Poste                595 non-null object\n",
      "Date de naissance    595 non-null object\n",
      "Taille               595 non-null int64\n",
      "Poids                595 non-null int64\n",
      "dtypes: int64(2), object(4)\n",
      "memory usage: 28.0+ KB\n"
     ]
    }
   ],
   "source": [
    "df.info()"
   ]
  },
  {
   "cell_type": "markdown",
   "metadata": {
    "colab_type": "text",
    "id": "N2K-Pd-MaV1Z"
   },
   "source": [
    "Pour accéder à une fiche particulière de joueur, on peut utiliser la fonction `loc()` :"
   ]
  },
  {
   "cell_type": "code",
   "execution_count": 9,
   "metadata": {
    "colab": {
     "base_uri": "https://localhost:8080/",
     "height": 141
    },
    "colab_type": "code",
    "id": "Ud31B7YsaV1c",
    "outputId": "381be15b-cc3d-4355-8dee-e0f69aad2fd2"
   },
   "outputs": [
    {
     "data": {
      "text/plain": [
       "Equipe                             Bayonne\n",
       "Nom                  Torsten VAN JAARSVELD\n",
       "Poste                            Talonneur\n",
       "Date de naissance               30/06/1987\n",
       "Taille                                 175\n",
       "Poids                                  106\n",
       "Name: 45, dtype: object"
      ]
     },
     "execution_count": 9,
     "metadata": {
      "tags": []
     },
     "output_type": "execute_result"
    }
   ],
   "source": [
    "df.loc[45]"
   ]
  },
  {
   "cell_type": "markdown",
   "metadata": {
    "colab_type": "text",
    "id": "7mAB7-ofaV1z"
   },
   "source": [
    "## Extraction de colonnes, création de graphiques \n",
    "Pour créer une liste contenant uniquement les données numériques de la colonne poids, il suffit d'écrire :"
   ]
  },
  {
   "cell_type": "code",
   "execution_count": 0,
   "metadata": {
    "colab": {},
    "colab_type": "code",
    "id": "zd3nVgSRaV12"
   },
   "outputs": [],
   "source": [
    "poids = df['Poids']"
   ]
  },
  {
   "cell_type": "markdown",
   "metadata": {
    "colab_type": "text",
    "id": "G7B9_CdxaV2D"
   },
   "source": [
    "Attention, la variable `poids` n'est pas une liste qui contiendrait `[122,116,112,...]` mais un type particulier à `pandas`, appelé \"Series\"."
   ]
  },
  {
   "cell_type": "code",
   "execution_count": 11,
   "metadata": {
    "colab": {
     "base_uri": "https://localhost:8080/",
     "height": 230
    },
    "colab_type": "code",
    "id": "yIrGAyBcaV2F",
    "outputId": "88c26953-30fb-46a0-977f-539b99f62f34"
   },
   "outputs": [
    {
     "name": "stdout",
     "output_type": "stream",
     "text": [
      "0      122\n",
      "1      116\n",
      "2      112\n",
      "3      123\n",
      "4      119\n",
      "      ... \n",
      "590     78\n",
      "591     97\n",
      "592     91\n",
      "593     85\n",
      "594     86\n",
      "Name: Poids, Length: 595, dtype: int64\n"
     ]
    }
   ],
   "source": [
    "print(poids)"
   ]
  },
  {
   "cell_type": "code",
   "execution_count": 12,
   "metadata": {
    "colab": {
     "base_uri": "https://localhost:8080/",
     "height": 35
    },
    "colab_type": "code",
    "id": "gdNVPJkyaV2O",
    "outputId": "59c2b9d0-c059-4f43-93b8-45eb6208f75d"
   },
   "outputs": [
    {
     "data": {
      "text/plain": [
       "pandas.core.series.Series"
      ]
     },
     "execution_count": 12,
     "metadata": {
      "tags": []
     },
     "output_type": "execute_result"
    }
   ],
   "source": [
    "type(poids)"
   ]
  },
  {
   "cell_type": "markdown",
   "metadata": {
    "colab_type": "text",
    "id": "XU5OJi-MaV2Y"
   },
   "source": [
    "On peut néanmoins s'en servir comme d'une liste classique."
   ]
  },
  {
   "cell_type": "code",
   "execution_count": 13,
   "metadata": {
    "colab": {
     "base_uri": "https://localhost:8080/",
     "height": 35
    },
    "colab_type": "code",
    "id": "vwXS6I84aV2a",
    "outputId": "b3b7391f-68ea-49c9-de82-c9bf54917dc3"
   },
   "outputs": [
    {
     "data": {
      "text/plain": [
       "122"
      ]
     },
     "execution_count": 13,
     "metadata": {
      "tags": []
     },
     "output_type": "execute_result"
    }
   ],
   "source": [
    "poids[0]"
   ]
  },
  {
   "cell_type": "markdown",
   "metadata": {
    "colab_type": "text",
    "id": "Pj5eT9KFaV2i"
   },
   "source": [
    "On voit donc que les données sont automatiquement traitées comme des nombres. Pas besoin de conversion comme avec le module `csv` !\n",
    "\n",
    "Pour tracer notre nuage de points poids-taille, le code sera donc simplement :"
   ]
  },
  {
   "cell_type": "code",
   "execution_count": 14,
   "metadata": {
    "colab": {
     "base_uri": "https://localhost:8080/",
     "height": 265
    },
    "colab_type": "code",
    "id": "K0yhJ-15aV2l",
    "outputId": "2f24da3a-db9b-49ab-82da-f81454ce1ca0"
   },
   "outputs": [
    {
     "data": {
      "image/png": "[encoded data removed]",
      "text/plain": [
       "<Figure size 432x288 with 1 Axes>"
      ]
     },
     "metadata": {
      "tags": []
     },
     "output_type": "display_data"
    }
   ],
   "source": [
    "%matplotlib inline\n",
    "import matplotlib.pyplot as plt\n",
    "X = df['Poids']\n",
    "Y = df['Taille']\n",
    "\n",
    "plt.plot(X,Y,'ro') # r pour red, o pour un cercle. voir https://matplotlib.org/api/markers_api.html\n",
    "plt.show()"
   ]
  },
  {
   "cell_type": "markdown",
   "metadata": {
    "colab_type": "text",
    "id": "fzl7pMgMaV2t"
   },
   "source": [
    "L'interprétation numérique permet à `pandas` d'analyser automatiquement les données, avec notamment la fonction `describe()`."
   ]
  },
  {
   "cell_type": "code",
   "execution_count": 15,
   "metadata": {
    "colab": {
     "base_uri": "https://localhost:8080/",
     "height": 177
    },
    "colab_type": "code",
    "id": "E9IwMet9aV2w",
    "outputId": "be9163f0-3461-440d-ea8c-fa38cf38a16f"
   },
   "outputs": [
    {
     "data": {
      "text/plain": [
       "count    595.000000\n",
       "mean     186.559664\n",
       "std        7.572615\n",
       "min      169.000000\n",
       "25%      181.000000\n",
       "50%      186.000000\n",
       "75%      192.000000\n",
       "max      208.000000\n",
       "Name: Taille, dtype: float64"
      ]
     },
     "execution_count": 15,
     "metadata": {
      "tags": []
     },
     "output_type": "execute_result"
    }
   ],
   "source": [
    "df['Taille'].describe()"
   ]
  },
  {
   "cell_type": "markdown",
   "metadata": {
    "colab_type": "text",
    "id": "S5kGQ0peaV27"
   },
   "source": [
    "On voit donc que les indicateurs statistiques sont proposés automatiquent. \n",
    "D'ailleurs, on peut très facilement tracer des boites à moustaches avec `boxplot()`."
   ]
  },
  {
   "cell_type": "code",
   "execution_count": 16,
   "metadata": {
    "colab": {
     "base_uri": "https://localhost:8080/",
     "height": 283
    },
    "colab_type": "code",
    "id": "CIs7_4Z9aV28",
    "outputId": "6ca6ca6c-2146-4084-98c8-84a45e01298a"
   },
   "outputs": [
    {
     "data": {
      "text/plain": [
       "<matplotlib.axes._subplots.AxesSubplot at 0x7f28dd7de320>"
      ]
     },
     "execution_count": 16,
     "metadata": {
      "tags": []
     },
     "output_type": "execute_result"
    },
    {
     "data": {
      "image/png": "[encoded data removed]",
      "text/plain": [
       "<Figure size 432x288 with 1 Axes>"
      ]
     },
     "metadata": {
      "tags": []
     },
     "output_type": "display_data"
    }
   ],
   "source": [
    "df.boxplot(\"Taille\")"
   ]
  },
  {
   "cell_type": "markdown",
   "metadata": {
    "colab_type": "text",
    "id": "UPK6FbVxaV3G"
   },
   "source": [
    "Pour les données non-numériques, la commande `describe()` n'est que peu d'utilité. Elle renseigne toutefois la valeur la plus fréquente (en statistiques, le *mode* ou *valeur modale*)"
   ]
  },
  {
   "cell_type": "code",
   "execution_count": 21,
   "metadata": {
    "colab": {
     "base_uri": "https://localhost:8080/",
     "height": 35
    },
    "colab_type": "code",
    "id": "J2VdkaI5aV3J",
    "outputId": "fd1f3385-e9ee-4cae-a720-3ad43b81c24c"
   },
   "outputs": [
    {
     "data": {
      "text/plain": [
       "'3ème ligne'"
      ]
     },
     "execution_count": 21,
     "metadata": {
      "tags": []
     },
     "output_type": "execute_result"
    }
   ],
   "source": [
    "df['Poste'].describe().top"
   ]
  },
  {
   "cell_type": "code",
   "execution_count": 0,
   "metadata": {
    "colab": {},
    "colab_type": "code",
    "id": "V3e_FSFQcDwK"
   },
   "outputs": [],
   "source": []
  },
  {
   "cell_type": "markdown",
   "metadata": {
    "colab_type": "text",
    "id": "1yGECzxmaV3V"
   },
   "source": [
    "Pour connaître par exemple la date de naissance la plus fréquente chez les joueurs du top14, on utilisera simplement :"
   ]
  },
  {
   "cell_type": "code",
   "execution_count": 18,
   "metadata": {
    "colab": {
     "base_uri": "https://localhost:8080/",
     "height": 35
    },
    "colab_type": "code",
    "id": "cizeAeudaV3Y",
    "outputId": "1e1e2254-ffe3-457e-e7f8-ee9f27fa758f"
   },
   "outputs": [
    {
     "data": {
      "text/plain": [
       "'07/08/1990'"
      ]
     },
     "execution_count": 18,
     "metadata": {
      "tags": []
     },
     "output_type": "execute_result"
    }
   ],
   "source": [
    "df['Date de naissance'].describe().top"
   ]
  },
  {
   "cell_type": "markdown",
   "metadata": {
    "colab_type": "text",
    "id": "tuuqyF5GaV3d"
   },
   "source": [
    "Qui sont les joueurs nés à cette date ?"
   ]
  },
  {
   "cell_type": "code",
   "execution_count": 19,
   "metadata": {
    "colab": {
     "base_uri": "https://localhost:8080/",
     "height": 88
    },
    "colab_type": "code",
    "id": "RSp3VnloaV3h",
    "outputId": "4ba24701-e07a-4876-9eff-c70c8e7d35c6"
   },
   "outputs": [
    {
     "name": "stdout",
     "output_type": "stream",
     "text": [
      "157      Rory SCHOLES\n",
      "382     Laurent PANIS\n",
      "567    Alban PLACINES\n",
      "Name: Nom, dtype: object\n"
     ]
    }
   ],
   "source": [
    "print(df['Nom'][df['Date de naissance'] == '23/04/1993'])"
   ]
  },
  {
   "cell_type": "markdown",
   "metadata": {
    "colab_type": "text",
    "id": "h5cEi0kcaV3m"
   },
   "source": [
    "Beaucoup plus de renseignements sont donnés par la commande `value_counts()`."
   ]
  },
  {
   "cell_type": "code",
   "execution_count": 20,
   "metadata": {
    "colab": {
     "base_uri": "https://localhost:8080/",
     "height": 728
    },
    "colab_type": "code",
    "id": "M8DhHZG-aV3n",
    "outputId": "85768f49-f611-4551-e913-23f7a4445f4e"
   },
   "outputs": [
    {
     "data": {
      "text/plain": [
       "180    52\n",
       "183    40\n",
       "188    35\n",
       "181    31\n",
       "185    31\n",
       "182    29\n",
       "184    25\n",
       "187    25\n",
       "190    25\n",
       "193    24\n",
       "186    24\n",
       "189    21\n",
       "178    20\n",
       "177    18\n",
       "192    17\n",
       "198    17\n",
       "195    16\n",
       "191    16\n",
       "196    15\n",
       "194    14\n",
       "200    12\n",
       "174     9\n",
       "175     9\n",
       "179     9\n",
       "202     9\n",
       "176     8\n",
       "199     6\n",
       "197     6\n",
       "201     5\n",
       "203     4\n",
       "172     4\n",
       "204     3\n",
       "170     3\n",
       "206     3\n",
       "171     3\n",
       "173     3\n",
       "208     2\n",
       "205     1\n",
       "169     1\n",
       "Name: Taille, dtype: int64"
      ]
     },
     "execution_count": 20,
     "metadata": {
      "tags": []
     },
     "output_type": "execute_result"
    }
   ],
   "source": [
    "df['Taille'].value_counts()"
   ]
  },
  {
   "cell_type": "markdown",
   "metadata": {
    "colab_type": "text",
    "id": "RPrflhgCaV3s"
   },
   "source": [
    "## Filtres et recherches\n",
    "Comment créer une *dataframe* ne contenant que les joueurs de l'UBB ?  \n",
    "\n",
    "L'idée syntaxique est d'écrire à l'intérieur de `df[]` le test qui permettra le filtrage."
   ]
  },
  {
   "cell_type": "code",
   "execution_count": 0,
   "metadata": {
    "colab": {},
    "colab_type": "code",
    "id": "GQ6t5M6SaV3u"
   },
   "outputs": [],
   "source": [
    "UBB = df[df['Equipe'] == 'Bordeaux']"
   ]
  },
  {
   "cell_type": "code",
   "execution_count": 22,
   "metadata": {
    "colab": {
     "base_uri": "https://localhost:8080/",
     "height": 1000
    },
    "colab_type": "code",
    "id": "KUOO86j6aV30",
    "outputId": "61ca1c80-8e32-43e6-c303-8087d5928e9e"
   },
   "outputs": [
    {
     "data": {
      "text/html": [
       "<div>\n",
       "<style scoped>\n",
       "    .dataframe tbody tr th:only-of-type {\n",
       "        vertical-align: middle;\n",
       "    }\n",
       "\n",
       "    .dataframe tbody tr th {\n",
       "        vertical-align: top;\n",
       "    }\n",
       "\n",
       "    .dataframe thead th {\n",
       "        text-align: right;\n",
       "    }\n",
       "</style>\n",
       "<table border=\"1\" class=\"dataframe\">\n",
       "  <thead>\n",
       "    <tr style=\"text-align: right;\">\n",
       "      <th></th>\n",
       "      <th>Equipe</th>\n",
       "      <th>Nom</th>\n",
       "      <th>Poste</th>\n",
       "      <th>Date de naissance</th>\n",
       "      <th>Taille</th>\n",
       "      <th>Poids</th>\n",
       "    </tr>\n",
       "  </thead>\n",
       "  <tbody>\n",
       "    <tr>\n",
       "      <th>80</th>\n",
       "      <td>Bordeaux</td>\n",
       "      <td>Jefferson POIROT</td>\n",
       "      <td>Pilier</td>\n",
       "      <td>01/11/1992</td>\n",
       "      <td>181</td>\n",
       "      <td>117</td>\n",
       "    </tr>\n",
       "    <tr>\n",
       "      <th>81</th>\n",
       "      <td>Bordeaux</td>\n",
       "      <td>Lasha TABIDZE</td>\n",
       "      <td>Pilier</td>\n",
       "      <td>04/07/1997</td>\n",
       "      <td>185</td>\n",
       "      <td>117</td>\n",
       "    </tr>\n",
       "    <tr>\n",
       "      <th>82</th>\n",
       "      <td>Bordeaux</td>\n",
       "      <td>Laurent DELBOULBÈS</td>\n",
       "      <td>Pilier</td>\n",
       "      <td>17/11/1986</td>\n",
       "      <td>181</td>\n",
       "      <td>106</td>\n",
       "    </tr>\n",
       "    <tr>\n",
       "      <th>83</th>\n",
       "      <td>Bordeaux</td>\n",
       "      <td>Lekso KAULASHVILI</td>\n",
       "      <td>Pilier</td>\n",
       "      <td>27/08/1992</td>\n",
       "      <td>187</td>\n",
       "      <td>120</td>\n",
       "    </tr>\n",
       "    <tr>\n",
       "      <th>84</th>\n",
       "      <td>Bordeaux</td>\n",
       "      <td>Peni RAVAI</td>\n",
       "      <td>Pilier</td>\n",
       "      <td>16/06/1990</td>\n",
       "      <td>185</td>\n",
       "      <td>119</td>\n",
       "    </tr>\n",
       "    <tr>\n",
       "      <th>85</th>\n",
       "      <td>Bordeaux</td>\n",
       "      <td>Thierry PAÏVA</td>\n",
       "      <td>Pilier</td>\n",
       "      <td>19/11/1995</td>\n",
       "      <td>184</td>\n",
       "      <td>125</td>\n",
       "    </tr>\n",
       "    <tr>\n",
       "      <th>86</th>\n",
       "      <td>Bordeaux</td>\n",
       "      <td>Vadim COBILAS</td>\n",
       "      <td>Pilier</td>\n",
       "      <td>30/07/1983</td>\n",
       "      <td>180</td>\n",
       "      <td>118</td>\n",
       "    </tr>\n",
       "    <tr>\n",
       "      <th>87</th>\n",
       "      <td>Bordeaux</td>\n",
       "      <td>Adrien PÉLISSIÉ</td>\n",
       "      <td>Talonneur</td>\n",
       "      <td>07/08/1990</td>\n",
       "      <td>181</td>\n",
       "      <td>110</td>\n",
       "    </tr>\n",
       "    <tr>\n",
       "      <th>88</th>\n",
       "      <td>Bordeaux</td>\n",
       "      <td>Clément MAYNADIER</td>\n",
       "      <td>Talonneur</td>\n",
       "      <td>11/10/1988</td>\n",
       "      <td>187</td>\n",
       "      <td>100</td>\n",
       "    </tr>\n",
       "    <tr>\n",
       "      <th>89</th>\n",
       "      <td>Bordeaux</td>\n",
       "      <td>Alexandre FLANQUART</td>\n",
       "      <td>2ème ligne</td>\n",
       "      <td>09/10/1989</td>\n",
       "      <td>204</td>\n",
       "      <td>120</td>\n",
       "    </tr>\n",
       "    <tr>\n",
       "      <th>90</th>\n",
       "      <td>Bordeaux</td>\n",
       "      <td>Cyril CAZEAUX</td>\n",
       "      <td>2ème ligne</td>\n",
       "      <td>10/02/1995</td>\n",
       "      <td>198</td>\n",
       "      <td>113</td>\n",
       "    </tr>\n",
       "    <tr>\n",
       "      <th>91</th>\n",
       "      <td>Bordeaux</td>\n",
       "      <td>Jandré MARAIS</td>\n",
       "      <td>2ème ligne</td>\n",
       "      <td>14/06/1989</td>\n",
       "      <td>198</td>\n",
       "      <td>118</td>\n",
       "    </tr>\n",
       "    <tr>\n",
       "      <th>92</th>\n",
       "      <td>Bordeaux</td>\n",
       "      <td>Kane DOUGLAS</td>\n",
       "      <td>2ème ligne</td>\n",
       "      <td>01/06/1989</td>\n",
       "      <td>202</td>\n",
       "      <td>123</td>\n",
       "    </tr>\n",
       "    <tr>\n",
       "      <th>93</th>\n",
       "      <td>Bordeaux</td>\n",
       "      <td>Masalosalo TUTAIA</td>\n",
       "      <td>2ème ligne</td>\n",
       "      <td>05/06/1984</td>\n",
       "      <td>204</td>\n",
       "      <td>125</td>\n",
       "    </tr>\n",
       "    <tr>\n",
       "      <th>94</th>\n",
       "      <td>Bordeaux</td>\n",
       "      <td>Afa AMOSA</td>\n",
       "      <td>3ème ligne</td>\n",
       "      <td>11/10/1990</td>\n",
       "      <td>187</td>\n",
       "      <td>112</td>\n",
       "    </tr>\n",
       "    <tr>\n",
       "      <th>95</th>\n",
       "      <td>Bordeaux</td>\n",
       "      <td>Alexandre ROUMAT</td>\n",
       "      <td>3ème ligne</td>\n",
       "      <td>27/06/1997</td>\n",
       "      <td>198</td>\n",
       "      <td>104</td>\n",
       "    </tr>\n",
       "    <tr>\n",
       "      <th>96</th>\n",
       "      <td>Bordeaux</td>\n",
       "      <td>Béka GORGADZE</td>\n",
       "      <td>3ème ligne</td>\n",
       "      <td>08/02/1996</td>\n",
       "      <td>189</td>\n",
       "      <td>105</td>\n",
       "    </tr>\n",
       "    <tr>\n",
       "      <th>97</th>\n",
       "      <td>Bordeaux</td>\n",
       "      <td>Cameron WOKI</td>\n",
       "      <td>3ème ligne</td>\n",
       "      <td>07/11/1998</td>\n",
       "      <td>196</td>\n",
       "      <td>103</td>\n",
       "    </tr>\n",
       "    <tr>\n",
       "      <th>98</th>\n",
       "      <td>Bordeaux</td>\n",
       "      <td>Mahamadou DIABY</td>\n",
       "      <td>3ème ligne</td>\n",
       "      <td>15/08/1990</td>\n",
       "      <td>188</td>\n",
       "      <td>105</td>\n",
       "    </tr>\n",
       "    <tr>\n",
       "      <th>99</th>\n",
       "      <td>Bordeaux</td>\n",
       "      <td>Marco TAULEIGNE</td>\n",
       "      <td>3ème ligne</td>\n",
       "      <td>30/08/1993</td>\n",
       "      <td>191</td>\n",
       "      <td>115</td>\n",
       "    </tr>\n",
       "    <tr>\n",
       "      <th>100</th>\n",
       "      <td>Bordeaux</td>\n",
       "      <td>Scott HIGGINBOTHAM</td>\n",
       "      <td>3ème ligne</td>\n",
       "      <td>05/09/1986</td>\n",
       "      <td>195</td>\n",
       "      <td>110</td>\n",
       "    </tr>\n",
       "    <tr>\n",
       "      <th>101</th>\n",
       "      <td>Bordeaux</td>\n",
       "      <td>Maxime LUCU</td>\n",
       "      <td>Mêlée</td>\n",
       "      <td>12/01/1993</td>\n",
       "      <td>177</td>\n",
       "      <td>79</td>\n",
       "    </tr>\n",
       "    <tr>\n",
       "      <th>102</th>\n",
       "      <td>Bordeaux</td>\n",
       "      <td>Yann LESGOURGUES</td>\n",
       "      <td>Mêlée</td>\n",
       "      <td>17/01/1991</td>\n",
       "      <td>174</td>\n",
       "      <td>71</td>\n",
       "    </tr>\n",
       "    <tr>\n",
       "      <th>103</th>\n",
       "      <td>Bordeaux</td>\n",
       "      <td>Ben BOTICA</td>\n",
       "      <td>Ouverture</td>\n",
       "      <td>07/10/1989</td>\n",
       "      <td>178</td>\n",
       "      <td>93</td>\n",
       "    </tr>\n",
       "    <tr>\n",
       "      <th>104</th>\n",
       "      <td>Bordeaux</td>\n",
       "      <td>Lucas MÉRET</td>\n",
       "      <td>Ouverture</td>\n",
       "      <td>30/01/1995</td>\n",
       "      <td>178</td>\n",
       "      <td>85</td>\n",
       "    </tr>\n",
       "    <tr>\n",
       "      <th>105</th>\n",
       "      <td>Bordeaux</td>\n",
       "      <td>Matthieu JALIBERT</td>\n",
       "      <td>Ouverture</td>\n",
       "      <td>06/11/1998</td>\n",
       "      <td>180</td>\n",
       "      <td>79</td>\n",
       "    </tr>\n",
       "    <tr>\n",
       "      <th>106</th>\n",
       "      <td>Bordeaux</td>\n",
       "      <td>Jean-Baptiste DUBIÉ</td>\n",
       "      <td>Centre</td>\n",
       "      <td>16/07/1989</td>\n",
       "      <td>181</td>\n",
       "      <td>85</td>\n",
       "    </tr>\n",
       "    <tr>\n",
       "      <th>107</th>\n",
       "      <td>Bordeaux</td>\n",
       "      <td>Rémi LAMERAT</td>\n",
       "      <td>Centre</td>\n",
       "      <td>14/01/1990</td>\n",
       "      <td>184</td>\n",
       "      <td>105</td>\n",
       "    </tr>\n",
       "    <tr>\n",
       "      <th>108</th>\n",
       "      <td>Bordeaux</td>\n",
       "      <td>Semi RADRADRA</td>\n",
       "      <td>Centre</td>\n",
       "      <td>13/06/1992</td>\n",
       "      <td>188</td>\n",
       "      <td>102</td>\n",
       "    </tr>\n",
       "    <tr>\n",
       "      <th>109</th>\n",
       "      <td>Bordeaux</td>\n",
       "      <td>Seta TAMANIVALU</td>\n",
       "      <td>Centre</td>\n",
       "      <td>23/07/1992</td>\n",
       "      <td>189</td>\n",
       "      <td>110</td>\n",
       "    </tr>\n",
       "    <tr>\n",
       "      <th>110</th>\n",
       "      <td>Bordeaux</td>\n",
       "      <td>Ulupano SEUTENI</td>\n",
       "      <td>Centre</td>\n",
       "      <td>09/12/1993</td>\n",
       "      <td>185</td>\n",
       "      <td>95</td>\n",
       "    </tr>\n",
       "    <tr>\n",
       "      <th>111</th>\n",
       "      <td>Bordeaux</td>\n",
       "      <td>Blair CONNOR</td>\n",
       "      <td>Ailier</td>\n",
       "      <td>29/09/1988</td>\n",
       "      <td>183</td>\n",
       "      <td>82</td>\n",
       "    </tr>\n",
       "    <tr>\n",
       "      <th>112</th>\n",
       "      <td>Bordeaux</td>\n",
       "      <td>Nicolas PLAZY</td>\n",
       "      <td>Ailier</td>\n",
       "      <td>17/05/1994</td>\n",
       "      <td>188</td>\n",
       "      <td>85</td>\n",
       "    </tr>\n",
       "    <tr>\n",
       "      <th>113</th>\n",
       "      <td>Bordeaux</td>\n",
       "      <td>Santiago CORDERO</td>\n",
       "      <td>Ailier</td>\n",
       "      <td>06/12/1993</td>\n",
       "      <td>177</td>\n",
       "      <td>83</td>\n",
       "    </tr>\n",
       "    <tr>\n",
       "      <th>114</th>\n",
       "      <td>Bordeaux</td>\n",
       "      <td>Geoffrey CROS</td>\n",
       "      <td>Arrière</td>\n",
       "      <td>08/03/1997</td>\n",
       "      <td>185</td>\n",
       "      <td>85</td>\n",
       "    </tr>\n",
       "    <tr>\n",
       "      <th>115</th>\n",
       "      <td>Bordeaux</td>\n",
       "      <td>Nans DUCUING</td>\n",
       "      <td>Arrière</td>\n",
       "      <td>06/11/1991</td>\n",
       "      <td>181</td>\n",
       "      <td>90</td>\n",
       "    </tr>\n",
       "    <tr>\n",
       "      <th>116</th>\n",
       "      <td>Bordeaux</td>\n",
       "      <td>Romain BUROS</td>\n",
       "      <td>Arrière</td>\n",
       "      <td>31/07/1997</td>\n",
       "      <td>187</td>\n",
       "      <td>91</td>\n",
       "    </tr>\n",
       "  </tbody>\n",
       "</table>\n",
       "</div>"
      ],
      "text/plain": [
       "       Equipe                  Nom       Poste Date de naissance  Taille  Poids\n",
       "80   Bordeaux     Jefferson POIROT      Pilier        01/11/1992     181    117\n",
       "81   Bordeaux        Lasha TABIDZE      Pilier        04/07/1997     185    117\n",
       "82   Bordeaux   Laurent DELBOULBÈS      Pilier        17/11/1986     181    106\n",
       "83   Bordeaux    Lekso KAULASHVILI      Pilier        27/08/1992     187    120\n",
       "84   Bordeaux           Peni RAVAI      Pilier        16/06/1990     185    119\n",
       "85   Bordeaux        Thierry PAÏVA      Pilier        19/11/1995     184    125\n",
       "86   Bordeaux        Vadim COBILAS      Pilier        30/07/1983     180    118\n",
       "87   Bordeaux      Adrien PÉLISSIÉ   Talonneur        07/08/1990     181    110\n",
       "88   Bordeaux    Clément MAYNADIER   Talonneur        11/10/1988     187    100\n",
       "89   Bordeaux  Alexandre FLANQUART  2ème ligne        09/10/1989     204    120\n",
       "90   Bordeaux        Cyril CAZEAUX  2ème ligne        10/02/1995     198    113\n",
       "91   Bordeaux        Jandré MARAIS  2ème ligne        14/06/1989     198    118\n",
       "92   Bordeaux         Kane DOUGLAS  2ème ligne        01/06/1989     202    123\n",
       "93   Bordeaux    Masalosalo TUTAIA  2ème ligne        05/06/1984     204    125\n",
       "94   Bordeaux            Afa AMOSA  3ème ligne        11/10/1990     187    112\n",
       "95   Bordeaux     Alexandre ROUMAT  3ème ligne        27/06/1997     198    104\n",
       "96   Bordeaux        Béka GORGADZE  3ème ligne        08/02/1996     189    105\n",
       "97   Bordeaux         Cameron WOKI  3ème ligne        07/11/1998     196    103\n",
       "98   Bordeaux      Mahamadou DIABY  3ème ligne        15/08/1990     188    105\n",
       "99   Bordeaux      Marco TAULEIGNE  3ème ligne        30/08/1993     191    115\n",
       "100  Bordeaux   Scott HIGGINBOTHAM  3ème ligne        05/09/1986     195    110\n",
       "101  Bordeaux          Maxime LUCU       Mêlée        12/01/1993     177     79\n",
       "102  Bordeaux     Yann LESGOURGUES       Mêlée        17/01/1991     174     71\n",
       "103  Bordeaux           Ben BOTICA   Ouverture        07/10/1989     178     93\n",
       "104  Bordeaux          Lucas MÉRET   Ouverture        30/01/1995     178     85\n",
       "105  Bordeaux    Matthieu JALIBERT   Ouverture        06/11/1998     180     79\n",
       "106  Bordeaux  Jean-Baptiste DUBIÉ      Centre        16/07/1989     181     85\n",
       "107  Bordeaux         Rémi LAMERAT      Centre        14/01/1990     184    105\n",
       "108  Bordeaux        Semi RADRADRA      Centre        13/06/1992     188    102\n",
       "109  Bordeaux      Seta TAMANIVALU      Centre        23/07/1992     189    110\n",
       "110  Bordeaux      Ulupano SEUTENI      Centre        09/12/1993     185     95\n",
       "111  Bordeaux         Blair CONNOR      Ailier        29/09/1988     183     82\n",
       "112  Bordeaux        Nicolas PLAZY      Ailier        17/05/1994     188     85\n",
       "113  Bordeaux     Santiago CORDERO      Ailier        06/12/1993     177     83\n",
       "114  Bordeaux        Geoffrey CROS     Arrière        08/03/1997     185     85\n",
       "115  Bordeaux         Nans DUCUING     Arrière        06/11/1991     181     90\n",
       "116  Bordeaux         Romain BUROS     Arrière        31/07/1997     187     91"
      ]
     },
     "execution_count": 22,
     "metadata": {
      "tags": []
     },
     "output_type": "execute_result"
    }
   ],
   "source": [
    "UBB"
   ]
  },
  {
   "cell_type": "markdown",
   "metadata": {
    "colab_type": "text",
    "id": "jflqx-tlaV36"
   },
   "source": [
    "### Exercice  1\n",
    "\n",
    "Créer une dataframe `gros` qui contient les joueurs de plus de 135 kg."
   ]
  },
  {
   "cell_type": "code",
   "execution_count": 0,
   "metadata": {
    "colab": {
     "base_uri": "https://localhost:8080/",
     "height": 300
    },
    "colab_type": "code",
    "id": "JHQooyUSWlf4",
    "outputId": "b71ef8c1-9e2a-495a-fafb-033e3d05b95a"
   },
   "outputs": [
    {
     "data": {
      "text/html": [
       "<div>\n",
       "<style scoped>\n",
       "    .dataframe tbody tr th:only-of-type {\n",
       "        vertical-align: middle;\n",
       "    }\n",
       "\n",
       "    .dataframe tbody tr th {\n",
       "        vertical-align: top;\n",
       "    }\n",
       "\n",
       "    .dataframe thead th {\n",
       "        text-align: right;\n",
       "    }\n",
       "</style>\n",
       "<table border=\"1\" class=\"dataframe\">\n",
       "  <thead>\n",
       "    <tr style=\"text-align: right;\">\n",
       "      <th></th>\n",
       "      <th>Equipe</th>\n",
       "      <th>Nom</th>\n",
       "      <th>Poste</th>\n",
       "      <th>Date de naissance</th>\n",
       "      <th>Taille</th>\n",
       "      <th>Poids</th>\n",
       "    </tr>\n",
       "  </thead>\n",
       "  <tbody>\n",
       "    <tr>\n",
       "      <th>48</th>\n",
       "      <td>Bayonne</td>\n",
       "      <td>Edwin MAKA</td>\n",
       "      <td>2ème ligne</td>\n",
       "      <td>25/01/1993</td>\n",
       "      <td>196</td>\n",
       "      <td>140</td>\n",
       "    </tr>\n",
       "    <tr>\n",
       "      <th>167</th>\n",
       "      <td>Castres</td>\n",
       "      <td>Tapu FALATEA</td>\n",
       "      <td>Pilier</td>\n",
       "      <td>12/12/1988</td>\n",
       "      <td>187</td>\n",
       "      <td>137</td>\n",
       "    </tr>\n",
       "    <tr>\n",
       "      <th>253</th>\n",
       "      <td>La Rochelle</td>\n",
       "      <td>Uini ATONIO</td>\n",
       "      <td>Pilier</td>\n",
       "      <td>26/03/1990</td>\n",
       "      <td>196</td>\n",
       "      <td>152</td>\n",
       "    </tr>\n",
       "    <tr>\n",
       "      <th>324</th>\n",
       "      <td>Montpellier</td>\n",
       "      <td>Antoine GUILLAMON</td>\n",
       "      <td>Pilier</td>\n",
       "      <td>04/06/1991</td>\n",
       "      <td>192</td>\n",
       "      <td>136</td>\n",
       "    </tr>\n",
       "    <tr>\n",
       "      <th>373</th>\n",
       "      <td>Paris</td>\n",
       "      <td>Christopher VAOTOA</td>\n",
       "      <td>Pilier</td>\n",
       "      <td>16/11/1996</td>\n",
       "      <td>185</td>\n",
       "      <td>138</td>\n",
       "    </tr>\n",
       "    <tr>\n",
       "      <th>425</th>\n",
       "      <td>Pau</td>\n",
       "      <td>Malik HAMADACHE</td>\n",
       "      <td>Pilier</td>\n",
       "      <td>17/10/1988</td>\n",
       "      <td>193</td>\n",
       "      <td>141</td>\n",
       "    </tr>\n",
       "    <tr>\n",
       "      <th>465</th>\n",
       "      <td>Racing92</td>\n",
       "      <td>Ali OZ</td>\n",
       "      <td>Pilier</td>\n",
       "      <td>28/05/1995</td>\n",
       "      <td>193</td>\n",
       "      <td>140</td>\n",
       "    </tr>\n",
       "    <tr>\n",
       "      <th>466</th>\n",
       "      <td>Racing92</td>\n",
       "      <td>Ben TAMEIFUNA</td>\n",
       "      <td>Pilier</td>\n",
       "      <td>30/08/1991</td>\n",
       "      <td>182</td>\n",
       "      <td>140</td>\n",
       "    </tr>\n",
       "  </tbody>\n",
       "</table>\n",
       "</div>"
      ],
      "text/plain": [
       "          Equipe                 Nom  ... Taille Poids\n",
       "48       Bayonne          Edwin MAKA  ...    196   140\n",
       "167      Castres        Tapu FALATEA  ...    187   137\n",
       "253  La Rochelle         Uini ATONIO  ...    196   152\n",
       "324  Montpellier   Antoine GUILLAMON  ...    192   136\n",
       "373        Paris  Christopher VAOTOA  ...    185   138\n",
       "425          Pau     Malik HAMADACHE  ...    193   141\n",
       "465     Racing92              Ali OZ  ...    193   140\n",
       "466     Racing92       Ben TAMEIFUNA  ...    182   140\n",
       "\n",
       "[8 rows x 6 columns]"
      ]
     },
     "execution_count": 24,
     "metadata": {
      "tags": []
     },
     "output_type": "execute_result"
    }
   ],
   "source": [
    "gros = df[df['Poids'] > 135] ; gros"
   ]
  },
  {
   "cell_type": "markdown",
   "metadata": {
    "colab_type": "text",
    "id": "Gd9gCUTkaV4U"
   },
   "source": [
    "### Exercice  2\n",
    "\n",
    "Créer une dataframe `grand_gros` qui contient les joueurs de plus de 2m et plus de 120 kg."
   ]
  },
  {
   "cell_type": "code",
   "execution_count": 8,
   "metadata": {
    "colab": {
     "base_uri": "https://localhost:8080/",
     "height": 424
    },
    "colab_type": "code",
    "id": "X3UY2qC-aV4Z",
    "outputId": "3a361346-179d-4e0e-94fd-223f5546b0f5"
   },
   "outputs": [
    {
     "data": {
      "text/html": [
       "<div>\n",
       "<style scoped>\n",
       "    .dataframe tbody tr th:only-of-type {\n",
       "        vertical-align: middle;\n",
       "    }\n",
       "\n",
       "    .dataframe tbody tr th {\n",
       "        vertical-align: top;\n",
       "    }\n",
       "\n",
       "    .dataframe thead th {\n",
       "        text-align: right;\n",
       "    }\n",
       "</style>\n",
       "<table border=\"1\" class=\"dataframe\">\n",
       "  <thead>\n",
       "    <tr style=\"text-align: right;\">\n",
       "      <th></th>\n",
       "      <th>Equipe</th>\n",
       "      <th>Nom</th>\n",
       "      <th>Poste</th>\n",
       "      <th>Date de naissance</th>\n",
       "      <th>Taille</th>\n",
       "      <th>Poids</th>\n",
       "    </tr>\n",
       "  </thead>\n",
       "  <tbody>\n",
       "    <tr>\n",
       "      <th>0</th>\n",
       "      <td>Agen</td>\n",
       "      <td>Anton PEIKRISHVILI</td>\n",
       "      <td>Pilier</td>\n",
       "      <td>18/09/1987</td>\n",
       "      <td>183</td>\n",
       "      <td>122</td>\n",
       "    </tr>\n",
       "    <tr>\n",
       "      <th>3</th>\n",
       "      <td>Agen</td>\n",
       "      <td>Kamaliele TUFELE</td>\n",
       "      <td>Pilier</td>\n",
       "      <td>11/10/1995</td>\n",
       "      <td>182</td>\n",
       "      <td>123</td>\n",
       "    </tr>\n",
       "    <tr>\n",
       "      <th>12</th>\n",
       "      <td>Agen</td>\n",
       "      <td>Mickaël DE MARCO</td>\n",
       "      <td>2ème ligne</td>\n",
       "      <td>22/04/1989</td>\n",
       "      <td>195</td>\n",
       "      <td>134</td>\n",
       "    </tr>\n",
       "    <tr>\n",
       "      <th>13</th>\n",
       "      <td>Agen</td>\n",
       "      <td>Pierce PHILLIPS</td>\n",
       "      <td>2ème ligne</td>\n",
       "      <td>06/10/1992</td>\n",
       "      <td>203</td>\n",
       "      <td>119</td>\n",
       "    </tr>\n",
       "    <tr>\n",
       "      <th>35</th>\n",
       "      <td>Bayonne</td>\n",
       "      <td>Census JOHNSTON</td>\n",
       "      <td>Pilier</td>\n",
       "      <td>06/05/1981</td>\n",
       "      <td>189</td>\n",
       "      <td>130</td>\n",
       "    </tr>\n",
       "    <tr>\n",
       "      <th>...</th>\n",
       "      <td>...</td>\n",
       "      <td>...</td>\n",
       "      <td>...</td>\n",
       "      <td>...</td>\n",
       "      <td>...</td>\n",
       "      <td>...</td>\n",
       "    </tr>\n",
       "    <tr>\n",
       "      <th>562</th>\n",
       "      <td>Toulouse</td>\n",
       "      <td>Florian VERHAEGHE</td>\n",
       "      <td>2ème ligne</td>\n",
       "      <td>27/04/1997</td>\n",
       "      <td>202</td>\n",
       "      <td>108</td>\n",
       "    </tr>\n",
       "    <tr>\n",
       "      <th>563</th>\n",
       "      <td>Toulouse</td>\n",
       "      <td>Iosefa TEKORI</td>\n",
       "      <td>2ème ligne</td>\n",
       "      <td>17/12/1983</td>\n",
       "      <td>198</td>\n",
       "      <td>127</td>\n",
       "    </tr>\n",
       "    <tr>\n",
       "      <th>564</th>\n",
       "      <td>Toulouse</td>\n",
       "      <td>Richie ARNOLD</td>\n",
       "      <td>2ème ligne</td>\n",
       "      <td>01/07/1990</td>\n",
       "      <td>208</td>\n",
       "      <td>127</td>\n",
       "    </tr>\n",
       "    <tr>\n",
       "      <th>565</th>\n",
       "      <td>Toulouse</td>\n",
       "      <td>Richie GRAY</td>\n",
       "      <td>2ème ligne</td>\n",
       "      <td>24/08/1989</td>\n",
       "      <td>206</td>\n",
       "      <td>125</td>\n",
       "    </tr>\n",
       "    <tr>\n",
       "      <th>566</th>\n",
       "      <td>Toulouse</td>\n",
       "      <td>Rory ARNOLD</td>\n",
       "      <td>2ème ligne</td>\n",
       "      <td>01/07/1990</td>\n",
       "      <td>208</td>\n",
       "      <td>120</td>\n",
       "    </tr>\n",
       "  </tbody>\n",
       "</table>\n",
       "<p>96 rows × 6 columns</p>\n",
       "</div>"
      ],
      "text/plain": [
       "       Equipe                 Nom       Poste Date de naissance  Taille  Poids\n",
       "0        Agen  Anton PEIKRISHVILI      Pilier        18/09/1987     183    122\n",
       "3        Agen    Kamaliele TUFELE      Pilier        11/10/1995     182    123\n",
       "12       Agen    Mickaël DE MARCO  2ème ligne        22/04/1989     195    134\n",
       "13       Agen     Pierce PHILLIPS  2ème ligne        06/10/1992     203    119\n",
       "35    Bayonne     Census JOHNSTON      Pilier        06/05/1981     189    130\n",
       "..        ...                 ...         ...               ...     ...    ...\n",
       "562  Toulouse   Florian VERHAEGHE  2ème ligne        27/04/1997     202    108\n",
       "563  Toulouse       Iosefa TEKORI  2ème ligne        17/12/1983     198    127\n",
       "564  Toulouse       Richie ARNOLD  2ème ligne        01/07/1990     208    127\n",
       "565  Toulouse         Richie GRAY  2ème ligne        24/08/1989     206    125\n",
       "566  Toulouse         Rory ARNOLD  2ème ligne        01/07/1990     208    120\n",
       "\n",
       "[96 rows x 6 columns]"
      ]
     },
     "execution_count": 8,
     "metadata": {
      "tags": []
     },
     "output_type": "execute_result"
    }
   ],
   "source": [
    "grand_gros = df[(df['Poids'] > 120) & (df['Taille'] > 200)]\n",
    "grand_gros"
   ]
  },
  {
   "cell_type": "markdown",
   "metadata": {
    "colab_type": "text",
    "id": "cHgScf-caV4h"
   },
   "source": [
    "### Exercice  3\n",
    "\n",
    "Trouver en une seule ligne le joueur le plus léger du Top14."
   ]
  },
  {
   "cell_type": "code",
   "execution_count": 16,
   "metadata": {
    "colab": {
     "base_uri": "https://localhost:8080/",
     "height": 35
    },
    "colab_type": "code",
    "id": "-qxr-kP7Sad-",
    "outputId": "627f91eb-8cd8-44b6-89d5-a2551752c0fc"
   },
   "outputs": [
    {
     "name": "stdout",
     "output_type": "stream",
     "text": [
      "Dylan HAYES\n"
     ]
    }
   ],
   "source": [
    "df['Nom'][df['Poids'] == min(df['Poids'])]\n",
    "print(df['Nom'][df['Poids'].idxmin])\n"
   ]
  },
  {
   "cell_type": "markdown",
   "metadata": {
    "colab_type": "text",
    "id": "BdC4T8JeaV4p"
   },
   "source": [
    "## Tris de données\n",
    "Le tri se fait par la fonction `sort_values()` :"
   ]
  },
  {
   "cell_type": "code",
   "execution_count": 0,
   "metadata": {
    "colab": {},
    "colab_type": "code",
    "id": "v7zDG9l8aV4q"
   },
   "outputs": [],
   "source": [
    "newdf = df.sort_values(by=['Poids'], ascending = True)"
   ]
  },
  {
   "cell_type": "code",
   "execution_count": 34,
   "metadata": {
    "colab": {
     "base_uri": "https://localhost:8080/",
     "height": 363
    },
    "colab_type": "code",
    "id": "icXyy5ERaV4w",
    "outputId": "bbc85c5b-7194-4ff1-9fe0-d3d7f763346e"
   },
   "outputs": [
    {
     "data": {
      "text/html": [
       "<div>\n",
       "<style scoped>\n",
       "    .dataframe tbody tr th:only-of-type {\n",
       "        vertical-align: middle;\n",
       "    }\n",
       "\n",
       "    .dataframe tbody tr th {\n",
       "        vertical-align: top;\n",
       "    }\n",
       "\n",
       "    .dataframe thead th {\n",
       "        text-align: right;\n",
       "    }\n",
       "</style>\n",
       "<table border=\"1\" class=\"dataframe\">\n",
       "  <thead>\n",
       "    <tr style=\"text-align: right;\">\n",
       "      <th></th>\n",
       "      <th>Equipe</th>\n",
       "      <th>Nom</th>\n",
       "      <th>Poste</th>\n",
       "      <th>Date de naissance</th>\n",
       "      <th>Taille</th>\n",
       "      <th>Poids</th>\n",
       "    </tr>\n",
       "  </thead>\n",
       "  <tbody>\n",
       "    <tr>\n",
       "      <th>491</th>\n",
       "      <td>Racing92</td>\n",
       "      <td>Teddy IRIBAREN</td>\n",
       "      <td>Mêlée</td>\n",
       "      <td>25/09/1990</td>\n",
       "      <td>170</td>\n",
       "      <td>70</td>\n",
       "    </tr>\n",
       "    <tr>\n",
       "      <th>102</th>\n",
       "      <td>Bordeaux</td>\n",
       "      <td>Yann LESGOURGUES</td>\n",
       "      <td>Mêlée</td>\n",
       "      <td>17/01/1991</td>\n",
       "      <td>174</td>\n",
       "      <td>71</td>\n",
       "    </tr>\n",
       "    <tr>\n",
       "      <th>545</th>\n",
       "      <td>Toulon</td>\n",
       "      <td>Gervais CORDIN</td>\n",
       "      <td>Arrière</td>\n",
       "      <td>10/12/1998</td>\n",
       "      <td>172</td>\n",
       "      <td>73</td>\n",
       "    </tr>\n",
       "    <tr>\n",
       "      <th>353</th>\n",
       "      <td>Montpellier</td>\n",
       "      <td>Benoît PAILLAUGUE</td>\n",
       "      <td>Mêlée</td>\n",
       "      <td>17/11/1987</td>\n",
       "      <td>172</td>\n",
       "      <td>74</td>\n",
       "    </tr>\n",
       "    <tr>\n",
       "      <th>143</th>\n",
       "      <td>Brive</td>\n",
       "      <td>Quentin DELORD</td>\n",
       "      <td>Mêlée</td>\n",
       "      <td>10/02/1999</td>\n",
       "      <td>171</td>\n",
       "      <td>74</td>\n",
       "    </tr>\n",
       "    <tr>\n",
       "      <th>578</th>\n",
       "      <td>Toulouse</td>\n",
       "      <td>Sébastien BÉZY</td>\n",
       "      <td>Mêlée</td>\n",
       "      <td>22/11/1991</td>\n",
       "      <td>174</td>\n",
       "      <td>74</td>\n",
       "    </tr>\n",
       "    <tr>\n",
       "      <th>446</th>\n",
       "      <td>Pau</td>\n",
       "      <td>Clovis LE BAIL</td>\n",
       "      <td>Mêlée</td>\n",
       "      <td>29/11/1995</td>\n",
       "      <td>173</td>\n",
       "      <td>74</td>\n",
       "    </tr>\n",
       "    <tr>\n",
       "      <th>64</th>\n",
       "      <td>Bayonne</td>\n",
       "      <td>Guillaume ROUET</td>\n",
       "      <td>Mêlée</td>\n",
       "      <td>13/08/1988</td>\n",
       "      <td>170</td>\n",
       "      <td>75</td>\n",
       "    </tr>\n",
       "    <tr>\n",
       "      <th>364</th>\n",
       "      <td>Montpellier</td>\n",
       "      <td>Gabriel N'GANDEBE</td>\n",
       "      <td>Ailier</td>\n",
       "      <td>30/03/1997</td>\n",
       "      <td>174</td>\n",
       "      <td>75</td>\n",
       "    </tr>\n",
       "    <tr>\n",
       "      <th>283</th>\n",
       "      <td>La Rochelle</td>\n",
       "      <td>Marc ANDREU</td>\n",
       "      <td>Ailier</td>\n",
       "      <td>27/12/1985</td>\n",
       "      <td>170</td>\n",
       "      <td>75</td>\n",
       "    </tr>\n",
       "  </tbody>\n",
       "</table>\n",
       "</div>"
      ],
      "text/plain": [
       "          Equipe                Nom    Poste Date de naissance  Taille  Poids\n",
       "491     Racing92     Teddy IRIBAREN    Mêlée        25/09/1990     170     70\n",
       "102     Bordeaux   Yann LESGOURGUES    Mêlée        17/01/1991     174     71\n",
       "545       Toulon     Gervais CORDIN  Arrière        10/12/1998     172     73\n",
       "353  Montpellier  Benoît PAILLAUGUE    Mêlée        17/11/1987     172     74\n",
       "143        Brive     Quentin DELORD    Mêlée        10/02/1999     171     74\n",
       "578     Toulouse     Sébastien BÉZY    Mêlée        22/11/1991     174     74\n",
       "446          Pau     Clovis LE BAIL    Mêlée        29/11/1995     173     74\n",
       "64       Bayonne    Guillaume ROUET    Mêlée        13/08/1988     170     75\n",
       "364  Montpellier  Gabriel N'GANDEBE   Ailier        30/03/1997     174     75\n",
       "283  La Rochelle        Marc ANDREU   Ailier        27/12/1985     170     75"
      ]
     },
     "execution_count": 34,
     "metadata": {
      "tags": []
     },
     "output_type": "execute_result"
    }
   ],
   "source": [
    "newdf.head(10)"
   ]
  },
  {
   "cell_type": "code",
   "execution_count": 0,
   "metadata": {
    "colab": {},
    "colab_type": "code",
    "id": "JVGM5VO5aV42"
   },
   "outputs": [],
   "source": []
  },
  {
   "cell_type": "markdown",
   "metadata": {
    "colab_type": "text",
    "id": "Uc7hwYlPaV47"
   },
   "source": [
    "## Rajout d'une colonne\n",
    "Afin de pouvoir trier les joueurs suivant de nouveaux critères, nous allons rajouter un champ pour chaque joueur.\n",
    "Prenons un exemple stupide : fabriquons un nouveau champ `'Poids après les vacances'` qui contiendra le poids des joueurs augmenté de 8 kg. \n",
    "Ceci se fera simplement par :\n"
   ]
  },
  {
   "cell_type": "code",
   "execution_count": 0,
   "metadata": {
    "colab": {},
    "colab_type": "code",
    "id": "J85gFmzDaV48"
   },
   "outputs": [],
   "source": [
    "df['Poids après les vacances'] = df['Poids'] + 8"
   ]
  },
  {
   "cell_type": "code",
   "execution_count": 36,
   "metadata": {
    "colab": {
     "base_uri": "https://localhost:8080/",
     "height": 206
    },
    "colab_type": "code",
    "id": "mwiLaa19aV5B",
    "outputId": "1902af3d-7f82-4cb3-adbb-58462c37f874"
   },
   "outputs": [
    {
     "data": {
      "text/html": [
       "<div>\n",
       "<style scoped>\n",
       "    .dataframe tbody tr th:only-of-type {\n",
       "        vertical-align: middle;\n",
       "    }\n",
       "\n",
       "    .dataframe tbody tr th {\n",
       "        vertical-align: top;\n",
       "    }\n",
       "\n",
       "    .dataframe thead th {\n",
       "        text-align: right;\n",
       "    }\n",
       "</style>\n",
       "<table border=\"1\" class=\"dataframe\">\n",
       "  <thead>\n",
       "    <tr style=\"text-align: right;\">\n",
       "      <th></th>\n",
       "      <th>Equipe</th>\n",
       "      <th>Nom</th>\n",
       "      <th>Poste</th>\n",
       "      <th>Date de naissance</th>\n",
       "      <th>Taille</th>\n",
       "      <th>Poids</th>\n",
       "      <th>Poids après les vacances</th>\n",
       "    </tr>\n",
       "  </thead>\n",
       "  <tbody>\n",
       "    <tr>\n",
       "      <th>0</th>\n",
       "      <td>Agen</td>\n",
       "      <td>Anton PEIKRISHVILI</td>\n",
       "      <td>Pilier</td>\n",
       "      <td>18/09/1987</td>\n",
       "      <td>183</td>\n",
       "      <td>122</td>\n",
       "      <td>130</td>\n",
       "    </tr>\n",
       "    <tr>\n",
       "      <th>1</th>\n",
       "      <td>Agen</td>\n",
       "      <td>Dave RYAN</td>\n",
       "      <td>Pilier</td>\n",
       "      <td>21/04/1986</td>\n",
       "      <td>183</td>\n",
       "      <td>116</td>\n",
       "      <td>124</td>\n",
       "    </tr>\n",
       "    <tr>\n",
       "      <th>2</th>\n",
       "      <td>Agen</td>\n",
       "      <td>Giorgi TETRASHVILI</td>\n",
       "      <td>Pilier</td>\n",
       "      <td>31/08/1993</td>\n",
       "      <td>177</td>\n",
       "      <td>112</td>\n",
       "      <td>120</td>\n",
       "    </tr>\n",
       "    <tr>\n",
       "      <th>3</th>\n",
       "      <td>Agen</td>\n",
       "      <td>Kamaliele TUFELE</td>\n",
       "      <td>Pilier</td>\n",
       "      <td>11/10/1995</td>\n",
       "      <td>182</td>\n",
       "      <td>123</td>\n",
       "      <td>131</td>\n",
       "    </tr>\n",
       "    <tr>\n",
       "      <th>4</th>\n",
       "      <td>Agen</td>\n",
       "      <td>Malino VANAÏ</td>\n",
       "      <td>Pilier</td>\n",
       "      <td>04/05/1993</td>\n",
       "      <td>183</td>\n",
       "      <td>119</td>\n",
       "      <td>127</td>\n",
       "    </tr>\n",
       "  </tbody>\n",
       "</table>\n",
       "</div>"
      ],
      "text/plain": [
       "  Equipe                 Nom   Poste  ... Taille  Poids  Poids après les vacances\n",
       "0   Agen  Anton PEIKRISHVILI  Pilier  ...    183    122                       130\n",
       "1   Agen           Dave RYAN  Pilier  ...    183    116                       124\n",
       "2   Agen  Giorgi TETRASHVILI  Pilier  ...    177    112                       120\n",
       "3   Agen    Kamaliele TUFELE  Pilier  ...    182    123                       131\n",
       "4   Agen        Malino VANAÏ  Pilier  ...    183    119                       127\n",
       "\n",
       "[5 rows x 7 columns]"
      ]
     },
     "execution_count": 36,
     "metadata": {
      "tags": []
     },
     "output_type": "execute_result"
    }
   ],
   "source": [
    "df.head()"
   ]
  },
  {
   "cell_type": "markdown",
   "metadata": {
    "colab_type": "text",
    "id": "TgLXLWeYaV5G"
   },
   "source": [
    "Pour supprimer cette colonne sans intérêt, faisons :"
   ]
  },
  {
   "cell_type": "code",
   "execution_count": 0,
   "metadata": {
    "colab": {},
    "colab_type": "code",
    "id": "hvhUwpp2aV5I"
   },
   "outputs": [],
   "source": [
    "del df['Poids après les vacances'] "
   ]
  },
  {
   "cell_type": "code",
   "execution_count": 38,
   "metadata": {
    "colab": {
     "base_uri": "https://localhost:8080/",
     "height": 206
    },
    "colab_type": "code",
    "id": "4BTXaPtEaV5N",
    "outputId": "2dea73f7-2d2f-4138-cad1-631eaa54f5b3"
   },
   "outputs": [
    {
     "data": {
      "text/html": [
       "<div>\n",
       "<style scoped>\n",
       "    .dataframe tbody tr th:only-of-type {\n",
       "        vertical-align: middle;\n",
       "    }\n",
       "\n",
       "    .dataframe tbody tr th {\n",
       "        vertical-align: top;\n",
       "    }\n",
       "\n",
       "    .dataframe thead th {\n",
       "        text-align: right;\n",
       "    }\n",
       "</style>\n",
       "<table border=\"1\" class=\"dataframe\">\n",
       "  <thead>\n",
       "    <tr style=\"text-align: right;\">\n",
       "      <th></th>\n",
       "      <th>Equipe</th>\n",
       "      <th>Nom</th>\n",
       "      <th>Poste</th>\n",
       "      <th>Date de naissance</th>\n",
       "      <th>Taille</th>\n",
       "      <th>Poids</th>\n",
       "    </tr>\n",
       "  </thead>\n",
       "  <tbody>\n",
       "    <tr>\n",
       "      <th>0</th>\n",
       "      <td>Agen</td>\n",
       "      <td>Anton PEIKRISHVILI</td>\n",
       "      <td>Pilier</td>\n",
       "      <td>18/09/1987</td>\n",
       "      <td>183</td>\n",
       "      <td>122</td>\n",
       "    </tr>\n",
       "    <tr>\n",
       "      <th>1</th>\n",
       "      <td>Agen</td>\n",
       "      <td>Dave RYAN</td>\n",
       "      <td>Pilier</td>\n",
       "      <td>21/04/1986</td>\n",
       "      <td>183</td>\n",
       "      <td>116</td>\n",
       "    </tr>\n",
       "    <tr>\n",
       "      <th>2</th>\n",
       "      <td>Agen</td>\n",
       "      <td>Giorgi TETRASHVILI</td>\n",
       "      <td>Pilier</td>\n",
       "      <td>31/08/1993</td>\n",
       "      <td>177</td>\n",
       "      <td>112</td>\n",
       "    </tr>\n",
       "    <tr>\n",
       "      <th>3</th>\n",
       "      <td>Agen</td>\n",
       "      <td>Kamaliele TUFELE</td>\n",
       "      <td>Pilier</td>\n",
       "      <td>11/10/1995</td>\n",
       "      <td>182</td>\n",
       "      <td>123</td>\n",
       "    </tr>\n",
       "    <tr>\n",
       "      <th>4</th>\n",
       "      <td>Agen</td>\n",
       "      <td>Malino VANAÏ</td>\n",
       "      <td>Pilier</td>\n",
       "      <td>04/05/1993</td>\n",
       "      <td>183</td>\n",
       "      <td>119</td>\n",
       "    </tr>\n",
       "  </tbody>\n",
       "</table>\n",
       "</div>"
      ],
      "text/plain": [
       "  Equipe                 Nom   Poste Date de naissance  Taille  Poids\n",
       "0   Agen  Anton PEIKRISHVILI  Pilier        18/09/1987     183    122\n",
       "1   Agen           Dave RYAN  Pilier        21/04/1986     183    116\n",
       "2   Agen  Giorgi TETRASHVILI  Pilier        31/08/1993     177    112\n",
       "3   Agen    Kamaliele TUFELE  Pilier        11/10/1995     182    123\n",
       "4   Agen        Malino VANAÏ  Pilier        04/05/1993     183    119"
      ]
     },
     "execution_count": 38,
     "metadata": {
      "tags": []
     },
     "output_type": "execute_result"
    }
   ],
   "source": [
    "df.head()"
   ]
  },
  {
   "cell_type": "markdown",
   "metadata": {
    "colab_type": "text",
    "id": "DNYbEtZZaV5R"
   },
   "source": [
    "### Exercice  4\n",
    "\n",
    "1. Créer une colonne contenant l'IMC de chaque joueur\n",
    "2. Créer une nouvelle dataframe contenant tous les joueurs du top14 classés par ordre d'IMC croissant."
   ]
  },
  {
   "cell_type": "code",
   "execution_count": 19,
   "metadata": {
    "colab": {
     "base_uri": "https://localhost:8080/",
     "height": 206
    },
    "colab_type": "code",
    "id": "0gNbLPmiMaro",
    "outputId": "734131f2-86f8-46ac-83af-4d35309fe6f3"
   },
   "outputs": [
    {
     "data": {
      "text/html": [
       "<div>\n",
       "<style scoped>\n",
       "    .dataframe tbody tr th:only-of-type {\n",
       "        vertical-align: middle;\n",
       "    }\n",
       "\n",
       "    .dataframe tbody tr th {\n",
       "        vertical-align: top;\n",
       "    }\n",
       "\n",
       "    .dataframe thead th {\n",
       "        text-align: right;\n",
       "    }\n",
       "</style>\n",
       "<table border=\"1\" class=\"dataframe\">\n",
       "  <thead>\n",
       "    <tr style=\"text-align: right;\">\n",
       "      <th></th>\n",
       "      <th>Equipe</th>\n",
       "      <th>Nom</th>\n",
       "      <th>Poste</th>\n",
       "      <th>Date de naissance</th>\n",
       "      <th>Taille</th>\n",
       "      <th>Poids</th>\n",
       "      <th>IMC</th>\n",
       "    </tr>\n",
       "  </thead>\n",
       "  <tbody>\n",
       "    <tr>\n",
       "      <th>0</th>\n",
       "      <td>Agen</td>\n",
       "      <td>Anton PEIKRISHVILI</td>\n",
       "      <td>Pilier</td>\n",
       "      <td>18/09/1987</td>\n",
       "      <td>183</td>\n",
       "      <td>122</td>\n",
       "      <td>36.429872</td>\n",
       "    </tr>\n",
       "    <tr>\n",
       "      <th>1</th>\n",
       "      <td>Agen</td>\n",
       "      <td>Dave RYAN</td>\n",
       "      <td>Pilier</td>\n",
       "      <td>21/04/1986</td>\n",
       "      <td>183</td>\n",
       "      <td>116</td>\n",
       "      <td>34.638239</td>\n",
       "    </tr>\n",
       "    <tr>\n",
       "      <th>2</th>\n",
       "      <td>Agen</td>\n",
       "      <td>Giorgi TETRASHVILI</td>\n",
       "      <td>Pilier</td>\n",
       "      <td>31/08/1993</td>\n",
       "      <td>177</td>\n",
       "      <td>112</td>\n",
       "      <td>35.749625</td>\n",
       "    </tr>\n",
       "    <tr>\n",
       "      <th>3</th>\n",
       "      <td>Agen</td>\n",
       "      <td>Kamaliele TUFELE</td>\n",
       "      <td>Pilier</td>\n",
       "      <td>11/10/1995</td>\n",
       "      <td>182</td>\n",
       "      <td>123</td>\n",
       "      <td>37.133196</td>\n",
       "    </tr>\n",
       "    <tr>\n",
       "      <th>4</th>\n",
       "      <td>Agen</td>\n",
       "      <td>Malino VANAÏ</td>\n",
       "      <td>Pilier</td>\n",
       "      <td>04/05/1993</td>\n",
       "      <td>183</td>\n",
       "      <td>119</td>\n",
       "      <td>35.534056</td>\n",
       "    </tr>\n",
       "  </tbody>\n",
       "</table>\n",
       "</div>"
      ],
      "text/plain": [
       "  Equipe                 Nom   Poste  ... Taille  Poids        IMC\n",
       "0   Agen  Anton PEIKRISHVILI  Pilier  ...    183    122  36.429872\n",
       "1   Agen           Dave RYAN  Pilier  ...    183    116  34.638239\n",
       "2   Agen  Giorgi TETRASHVILI  Pilier  ...    177    112  35.749625\n",
       "3   Agen    Kamaliele TUFELE  Pilier  ...    182    123  37.133196\n",
       "4   Agen        Malino VANAÏ  Pilier  ...    183    119  35.534056\n",
       "\n",
       "[5 rows x 7 columns]"
      ]
     },
     "execution_count": 19,
     "metadata": {
      "tags": []
     },
     "output_type": "execute_result"
    }
   ],
   "source": [
    "df['IMC'] = df['Poids'] / (df['Taille']/100)**2\n",
    "df.head()"
   ]
  },
  {
   "cell_type": "code",
   "execution_count": 20,
   "metadata": {
    "colab": {
     "base_uri": "https://localhost:8080/",
     "height": 424
    },
    "colab_type": "code",
    "id": "nUuXBvIWXsFD",
    "outputId": "b782ddf9-620b-4f8e-f402-008479e3e37d"
   },
   "outputs": [
    {
     "data": {
      "text/html": [
       "<div>\n",
       "<style scoped>\n",
       "    .dataframe tbody tr th:only-of-type {\n",
       "        vertical-align: middle;\n",
       "    }\n",
       "\n",
       "    .dataframe tbody tr th {\n",
       "        vertical-align: top;\n",
       "    }\n",
       "\n",
       "    .dataframe thead th {\n",
       "        text-align: right;\n",
       "    }\n",
       "</style>\n",
       "<table border=\"1\" class=\"dataframe\">\n",
       "  <thead>\n",
       "    <tr style=\"text-align: right;\">\n",
       "      <th></th>\n",
       "      <th>Equipe</th>\n",
       "      <th>Nom</th>\n",
       "      <th>Poste</th>\n",
       "      <th>Date de naissance</th>\n",
       "      <th>Taille</th>\n",
       "      <th>Poids</th>\n",
       "      <th>IMC</th>\n",
       "    </tr>\n",
       "  </thead>\n",
       "  <tbody>\n",
       "    <tr>\n",
       "      <th>102</th>\n",
       "      <td>Bordeaux</td>\n",
       "      <td>Yann LESGOURGUES</td>\n",
       "      <td>Mêlée</td>\n",
       "      <td>17/01/1991</td>\n",
       "      <td>174</td>\n",
       "      <td>71</td>\n",
       "      <td>23.450918</td>\n",
       "    </tr>\n",
       "    <tr>\n",
       "      <th>77</th>\n",
       "      <td>Bayonne</td>\n",
       "      <td>Aymeric LUC</td>\n",
       "      <td>Arrière</td>\n",
       "      <td>14/10/1997</td>\n",
       "      <td>180</td>\n",
       "      <td>76</td>\n",
       "      <td>23.456790</td>\n",
       "    </tr>\n",
       "    <tr>\n",
       "      <th>66</th>\n",
       "      <td>Bayonne</td>\n",
       "      <td>Brandon FAJARDO</td>\n",
       "      <td>Ouverture</td>\n",
       "      <td>25/06/1994</td>\n",
       "      <td>181</td>\n",
       "      <td>77</td>\n",
       "      <td>23.503556</td>\n",
       "    </tr>\n",
       "    <tr>\n",
       "      <th>141</th>\n",
       "      <td>Brive</td>\n",
       "      <td>David DELARUE</td>\n",
       "      <td>Mêlée</td>\n",
       "      <td>27/10/1996</td>\n",
       "      <td>190</td>\n",
       "      <td>85</td>\n",
       "      <td>23.545706</td>\n",
       "    </tr>\n",
       "    <tr>\n",
       "      <th>200</th>\n",
       "      <td>Castres</td>\n",
       "      <td>Martin LAVEAU</td>\n",
       "      <td>Ailier</td>\n",
       "      <td>10/09/1996</td>\n",
       "      <td>182</td>\n",
       "      <td>78</td>\n",
       "      <td>23.547881</td>\n",
       "    </tr>\n",
       "    <tr>\n",
       "      <th>...</th>\n",
       "      <td>...</td>\n",
       "      <td>...</td>\n",
       "      <td>...</td>\n",
       "      <td>...</td>\n",
       "      <td>...</td>\n",
       "      <td>...</td>\n",
       "      <td>...</td>\n",
       "    </tr>\n",
       "    <tr>\n",
       "      <th>376</th>\n",
       "      <td>Paris</td>\n",
       "      <td>Paul ALO-EMILE</td>\n",
       "      <td>Pilier</td>\n",
       "      <td>22/12/1991</td>\n",
       "      <td>180</td>\n",
       "      <td>128</td>\n",
       "      <td>39.506173</td>\n",
       "    </tr>\n",
       "    <tr>\n",
       "      <th>253</th>\n",
       "      <td>La Rochelle</td>\n",
       "      <td>Uini ATONIO</td>\n",
       "      <td>Pilier</td>\n",
       "      <td>26/03/1990</td>\n",
       "      <td>196</td>\n",
       "      <td>152</td>\n",
       "      <td>39.566847</td>\n",
       "    </tr>\n",
       "    <tr>\n",
       "      <th>373</th>\n",
       "      <td>Paris</td>\n",
       "      <td>Christopher VAOTOA</td>\n",
       "      <td>Pilier</td>\n",
       "      <td>16/11/1996</td>\n",
       "      <td>185</td>\n",
       "      <td>138</td>\n",
       "      <td>40.321402</td>\n",
       "    </tr>\n",
       "    <tr>\n",
       "      <th>511</th>\n",
       "      <td>Toulon</td>\n",
       "      <td>Sébastien TAOFIFENUA</td>\n",
       "      <td>Pilier</td>\n",
       "      <td>21/03/1992</td>\n",
       "      <td>178</td>\n",
       "      <td>130</td>\n",
       "      <td>41.030173</td>\n",
       "    </tr>\n",
       "    <tr>\n",
       "      <th>466</th>\n",
       "      <td>Racing92</td>\n",
       "      <td>Ben TAMEIFUNA</td>\n",
       "      <td>Pilier</td>\n",
       "      <td>30/08/1991</td>\n",
       "      <td>182</td>\n",
       "      <td>140</td>\n",
       "      <td>42.265427</td>\n",
       "    </tr>\n",
       "  </tbody>\n",
       "</table>\n",
       "<p>595 rows × 7 columns</p>\n",
       "</div>"
      ],
      "text/plain": [
       "          Equipe                   Nom      Poste  ... Taille  Poids        IMC\n",
       "102     Bordeaux      Yann LESGOURGUES      Mêlée  ...    174     71  23.450918\n",
       "77       Bayonne           Aymeric LUC    Arrière  ...    180     76  23.456790\n",
       "66       Bayonne       Brandon FAJARDO  Ouverture  ...    181     77  23.503556\n",
       "141        Brive         David DELARUE      Mêlée  ...    190     85  23.545706\n",
       "200      Castres         Martin LAVEAU     Ailier  ...    182     78  23.547881\n",
       "..           ...                   ...        ...  ...    ...    ...        ...\n",
       "376        Paris        Paul ALO-EMILE     Pilier  ...    180    128  39.506173\n",
       "253  La Rochelle           Uini ATONIO     Pilier  ...    196    152  39.566847\n",
       "373        Paris    Christopher VAOTOA     Pilier  ...    185    138  40.321402\n",
       "511       Toulon  Sébastien TAOFIFENUA     Pilier  ...    178    130  41.030173\n",
       "466     Racing92         Ben TAMEIFUNA     Pilier  ...    182    140  42.265427\n",
       "\n",
       "[595 rows x 7 columns]"
      ]
     },
     "execution_count": 20,
     "metadata": {
      "tags": []
     },
     "output_type": "execute_result"
    }
   ],
   "source": [
    "imcdf = df.sort_values(by=['IMC'], ascending = True)\n",
    "imcdf"
   ]
  },
  {
   "cell_type": "code",
   "execution_count": 0,
   "metadata": {
    "colab": {},
    "colab_type": "code",
    "id": "W3LBRsDGYAqD"
   },
   "outputs": [],
   "source": []
  }
 ],
 "metadata": {
  "colab": {
   "collapsed_sections": [
    "jflqx-tlaV36",
    "Gd9gCUTkaV4U",
    "cHgScf-caV4h",
    "DNYbEtZZaV5R"
   ],
   "name": "PROF_03_Pandas_eleves.ipynb",
   "provenance": []
  },
  "kernelspec": {
   "display_name": "Python 3",
   "language": "python",
   "name": "python3"
  },
  "language_info": {
   "codemirror_mode": {
    "name": "ipython",
    "version": 2
   },
   "file_extension": ".py",
   "mimetype": "text/x-python",
   "name": "python",
   "nbconvert_exporter": "python",
   "pygments_lexer": "ipython2",
   "version": "2.7.17"
  },
  "toc": {
   "base_numbering": 1,
   "nav_menu": {},
   "number_sections": false,
   "sideBar": true,
   "skip_h1_title": false,
   "title_cell": "Table of Contents",
   "title_sidebar": "Contents",
   "toc_cell": false,
   "toc_position": {},
   "toc_section_display": true,
   "toc_window_display": false
  }
 },
 "nbformat": 4,
 "nbformat_minor": 1
}
