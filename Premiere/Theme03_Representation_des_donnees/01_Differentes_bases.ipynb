{
 "cells": [
  {
   "cell_type": "markdown",
   "metadata": {},
   "source": [
    "# Représentation d'un entier positif dans différentes bases\n",
    "\n",
    "Hormis la base 10, deux bases sont utilisées en informatique :\n",
    "- la base 2  (le système **binaire**)\n",
    "- la base 16 (le système **hexadécimal**)\n",
    "\n",
    "Dans toute la suite, la base dans laquelle le nombre est écrit sera précisée en indice.  \n",
    "Exemple : $13_{10}=1101_2=\\rm{D}_{16}$"
   ]
  },
  {
   "cell_type": "markdown",
   "metadata": {},
   "source": [
    "## I. Le système binaire "
   ]
  },
  {
   "cell_type": "markdown",
   "metadata": {},
   "source": [
    "En base 2, on ne dispose que des chiffres `0` et `1`. Le système binaire est un système de numération de position (comme le système décimal, hexadécimal... mais pas comme le système romain). À chaque rang correspond une puissance de 2.\n",
    "\n",
    "#### Du binaire vers le décimal :\n"
   ]
  },
  {
   "cell_type": "markdown",
   "metadata": {},
   "source": [
    "|...|128|64|32|16|8|4|2|1|\n",
    "|:---:|:---:|:---:|:---:|:---:|:---:|:---:|:---:|:---:|\n",
    "|...|$2^7$|$2^6$|$2^5$|$2^4$|$2^3$|$2^2$|$2^1$|$2^0$|\n",
    "|...|1|1|0|1|0|0|1|0|\n",
    "\n",
    "\n",
    "\n",
    " $11010010_2=1 \\times 2^7+ 1 \\times 2^6+0 \\times 2^5+1 \\times 2^4+0 \\times 2^3+0 \\times 2^2+1 \\times 2^1+0 \\times 2^0=128+64+32+2=210_{10}$\n",
    " \n",
    " Le nombre binaire 11010010 correspond donc au nombre décimal 210.\n",
    " \n",
    " ##### En python :\n",
    " En Python, on peut utiliser la fonction `int(\"nombre\",base)`."
   ]
  },
  {
   "cell_type": "code",
   "execution_count": 11,
   "metadata": {},
   "outputs": [
    {
     "data": {
      "text/plain": [
       "210"
      ]
     },
     "execution_count": 11,
     "metadata": {},
     "output_type": "execute_result"
    }
   ],
   "source": [
    "int(\"11010010\",2)"
   ]
  },
  {
   "cell_type": "markdown",
   "metadata": {},
   "source": [
    "#### Du décimal vers le binaire : \n",
    "Principe : dans chaque nombre décimal, il existe une plus grande puissance de 2 qui est inférieure au nombre. \n",
    "\n",
    "Par exemple, dans 243, il y a 128. Donc   \n",
    "$243=128 + (115)$   \n",
    "$243=128+64+(51)$     \n",
    "$243=128+64+32+(19)$    \n",
    "$243=128+64+32+16+(3)$   \n",
    "$243=128+64+32+16+2+1$  \n",
    "$243=1 \\times 2^7+ 1 \\times 2^6+1 \\times 2^5+1 \\times 2^4+0 \\times 2^3+0 \\times 2^2+1 \\times 2^1+1 \\times 2^0$\n",
    "\n",
    "Donc $243_{10}=11110011_2$\n",
    "\n",
    "**méthode des divisions successives**\n",
    "![image](./data/div_successives.gif)\n",
    "\n",
    " ##### En python :\n",
    " En Python, on peut utiliser la fonction `bin(nombre)`. Elle renvoie une chaîne de caractère où le nombre binaire est précédé de `'0b'`."
   ]
  },
  {
   "cell_type": "code",
   "execution_count": 12,
   "metadata": {},
   "outputs": [
    {
     "data": {
      "text/plain": [
       "'0b11110011'"
      ]
     },
     "execution_count": 12,
     "metadata": {},
     "output_type": "execute_result"
    }
   ],
   "source": [
    "bin(243)"
   ]
  },
  {
   "cell_type": "markdown",
   "metadata": {},
   "source": [
    "## Exercice : \n",
    "Quelle est la valeur maximale d'un octet (un octet = 8 chiffres binaires) ?"
   ]
  },
  {
   "cell_type": "markdown",
   "metadata": {},
   "source": [
    "*Correction*  \n",
    "$11111111_2=255$. On retrouve ce nombre comme étant la valeur maximale d'une composante de couleur dans le codage RGB, ce qui signifie que chaque composante est codée sur un octet."
   ]
  },
  {
   "cell_type": "markdown",
   "metadata": {},
   "source": [
    "## Exercice : \n",
    "Créer une fonction `binaire(n)` qui renvoie l'écriture binaire de `n`, en utilisant les divisions successives."
   ]
  },
  {
   "cell_type": "code",
   "execution_count": 14,
   "metadata": {},
   "outputs": [
    {
     "data": {
      "text/plain": [
       "'11110011'"
      ]
     },
     "execution_count": 14,
     "metadata": {},
     "output_type": "execute_result"
    }
   ],
   "source": [
    "#correction\n",
    "\n",
    "def restes_successifs(n):\n",
    "    ''' renvoie la liste des restes successifs lors des divisions de n par 2'''\n",
    "    restes = []\n",
    "    while n != 0 :\n",
    "        restes.append(n % 2)\n",
    "        n = n // 2\n",
    "    return restes\n",
    "\n",
    "def binaire(n) :\n",
    "    ''' recompose le mot binaire en mettant dans l'ordre les restes successifs'''\n",
    "    liste = restes_successifs(n)\n",
    "    liste.reverse() #permet d'inverser l'ordre des élément d'une liste\n",
    "    mot = \"\"\n",
    "    for k in liste :\n",
    "        mot += str(k)\n",
    "    return mot\n",
    "\n",
    "binaire(243)"
   ]
  },
  {
   "cell_type": "markdown",
   "metadata": {},
   "source": [
    "## II. Le système hexadécimal \n",
    "L'inconvénient essentiel du système binaire est la longueur de l'écriture des nombres qu'il génère. Pour cette raison, le **système hexadécimal**, ou système de **base 16** est très souvent employé.\n",
    "\n",
    "- Pour écrire en base 2, il faut 2 chiffres différents : le 0 et le 1.  \n",
    "\n",
    "- Pour écrire en base 10, il faut 10 chiffres différents: 0,1,2,3,4,5,6,7,8,9.  \n",
    "\n",
    "- Pour écrire en base 16, il faut donc 16 chiffres différents : **0,1,2,3,4,5,6,7,8,9,A,B,C,D,E,F**.    \n",
    "\n",
    "\n",
    "On a donc la correspondance :\n",
    "\n",
    "A représente 10  \n",
    "B représente 11  \n",
    "C représente 12  \n",
    "D représente 13  \n",
    "E représente 14  \n",
    "F représente 15 \n",
    "\n",
    "\n",
    "#### De l'hexadécimal vers le décimal :"
   ]
  },
  {
   "cell_type": "markdown",
   "metadata": {},
   "source": [
    "|256|16|1|\n",
    "|:---:|:---:|:---:|\n",
    "|$16^2$|$16^1$|$16^0$|\n",
    "| 1| D|2|\n",
    "\n",
    "\n",
    "\n",
    " $\\rm{1D2}_{16}=1 \\times 16^2+ 13 \\times 16^1+2 \\times 16^0=256+208+2=466_{10}$\n",
    " \n",
    " Le nombre hexadécimal `1D2` correspond donc au nombre décimal 466.\n",
    " \n",
    " \n",
    " En pratique, l'hexadécimal est surtout utilisé pour sa capacité à représenter la valeur de n'importe quel octet sur 2 chiffres (\"chiffres\" étant à prendre au sens large = chiffres ou lettres !).\n",
    " \n"
   ]
  },
  {
   "cell_type": "markdown",
   "metadata": {},
   "source": [
    "## Exercice\n",
    "1. Donner la valeur des octets `FF`, `3A`, `B2`.\n",
    "2. Expliquer pourquoi la couleur RGB (138,255,51) a pour code html `#8AFF33`.\n",
    "3. Quelle est la couleur html du blanc ?\n",
    "\n",
    "\n",
    "*correction* \n",
    "1. FF=255 ; 3A=58 ; B2=178\n",
    "2. 138 a pour code hexa 8A, 255 a pour code hexa 255, 51 a pour code hexa 33\n",
    "3. #FFFFFF"
   ]
  },
  {
   "cell_type": "markdown",
   "metadata": {},
   "source": [
    " ##### En python :\n",
    " \n",
    " - **pour passer du décimal à l'hexadécimal** :  \n",
    " On peut utiliser la fonction `hex(nombre)`. Elle renvoie une chaîne de caractère où le nombre hexadécimal est précédé de `'0x'`."
   ]
  },
  {
   "cell_type": "code",
   "execution_count": 1,
   "metadata": {},
   "outputs": [
    {
     "data": {
      "text/plain": [
       "'0x7d'"
      ]
     },
     "execution_count": 1,
     "metadata": {},
     "output_type": "execute_result"
    }
   ],
   "source": [
    "hex(125)"
   ]
  },
  {
   "cell_type": "markdown",
   "metadata": {},
   "source": [
    " - **pour passer de l'hexadécimal au décimal** :  \n",
    " On peut utiliser la fonction `int(\"nombre\",base)`."
   ]
  },
  {
   "cell_type": "code",
   "execution_count": 3,
   "metadata": {},
   "outputs": [
    {
     "data": {
      "text/plain": [
       "255"
      ]
     },
     "execution_count": 3,
     "metadata": {},
     "output_type": "execute_result"
    }
   ],
   "source": [
    "int(\"FF\",16)"
   ]
  },
  {
   "cell_type": "code",
   "execution_count": null,
   "metadata": {},
   "outputs": [],
   "source": []
  }
 ],
 "metadata": {
  "kernelspec": {
   "display_name": "Python 3 (ipykernel)",
   "language": "python",
   "name": "python3"
  },
  "language_info": {
   "codemirror_mode": {
    "name": "ipython",
    "version": 2
   },
   "file_extension": ".py",
   "mimetype": "text/x-python",
   "name": "python",
   "nbconvert_exporter": "python",
   "pygments_lexer": "ipython2",
   "version": "2.7.18"
  },
  "toc": {
   "base_numbering": 1,
   "nav_menu": {},
   "number_sections": false,
   "sideBar": true,
   "skip_h1_title": false,
   "title_cell": "Table of Contents",
   "title_sidebar": "Contents",
   "toc_cell": false,
   "toc_position": {},
   "toc_section_display": true,
   "toc_window_display": true
  }
 },
 "nbformat": 4,
 "nbformat_minor": 2
}
