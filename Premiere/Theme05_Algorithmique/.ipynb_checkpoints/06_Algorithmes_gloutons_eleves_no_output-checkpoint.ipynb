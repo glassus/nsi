{
 "cells": [
  {
   "cell_type": "markdown",
   "metadata": {
    "colab_type": "text",
    "id": "DPS_QSNa--lf"
   },
   "source": [
    "# Algorithmes gloutons\n",
    "en anglais : _greedy algorithms_\n",
    "\n",
    "![](data/greedy.png)"
   ]
  },
  {
   "cell_type": "markdown",
   "metadata": {
    "colab_type": "text",
    "id": "5sh0OgNdASJu"
   },
   "source": [
    "Un algorithme est qualifié de «glouton» si le problème qu'il essaie de résoudre est décomposé en une succession de problèmes identiques pour lesquels l'algorithme va chercher une solution optimale.  \n",
    "\n",
    "La question (presque philosophique) est : lorsqu'on fait à chaque étape le meilleur choix possible, est-ce que la solution finale à laquelle on arrive est la meilleure possible ?   \n",
    "Est-ce que faire le meilleur choix à chaque étape nous assure le meilleur choix global ?"
   ]
  },
  {
   "cell_type": "markdown",
   "metadata": {
    "colab_type": "text",
    "id": "gyRSb8ZiEvRG"
   },
   "source": [
    "## 1. Exemples d'algorithmes gloutons\n",
    "\n",
    "### 1.1 Un plus court chemin ?\n"
   ]
  },
  {
   "cell_type": "markdown",
   "metadata": {
    "colab_type": "text",
    "id": "U8hcg2_jGDtx"
   },
   "source": [
    "* Vous partez du point O. \n",
    "* Vous devez avoir atteint le plus rapidement possible tous les points A, B, C, D, E, F. \n",
    "* L'ordre de parcours des points n'est pas important.\n",
    "\n",
    "![](http://glassus1.free.fr/dataNSI/pluscourt1.png)\n"
   ]
  },
  {
   "cell_type": "markdown",
   "metadata": {
    "colab_type": "text",
    "id": "XAMJJERzKeKa"
   },
   "source": [
    "La philosophie de l'algorithme glouton implique qu'à chaque étape, vous allez vous diriger vers le point le plus proche. \n",
    "\n",
    "Quel est alors le parcours final ?"
   ]
  },
  {
   "cell_type": "markdown",
   "metadata": {
    "colab_type": "text",
    "id": "bLAo-_ZHKwv3"
   },
   "source": [
    "#### solution"
   ]
  },
  {
   "cell_type": "markdown",
   "metadata": {
    "colab_type": "text",
    "id": "8VkqxCcGK5KD"
   },
   "source": [
    "voilà ce que donnerait l'algorithme glouton :\n",
    "\n",
    "![](data/pluscourt2.png)"
   ]
  },
  {
   "cell_type": "markdown",
   "metadata": {
    "colab_type": "text",
    "id": "NvaQ0zXUNFfz"
   },
   "source": [
    "#### Remarque "
   ]
  },
  {
   "cell_type": "markdown",
   "metadata": {
    "colab_type": "text",
    "id": "9DWznL5NNF4B"
   },
   "source": [
    "\n",
    "Ce chemin est-il optimal ? NON \n",
    "\n",
    "Celui ci-dessous est meilleur :\n",
    "\n",
    "![](data/pluscourt3.png)"
   ]
  },
  {
   "cell_type": "markdown",
   "metadata": {},
   "source": [
    "### 1.2 Remplir un rectangle avec des carrés\n",
    "*(d'après S.Tummarello et E.Buonocore)*\n",
    "\n",
    "On considère un rectangle de dimension 11 sur 13 (figure 0). On veut remplir ce rectangle avec le minimum de carrés.\n",
    "\n",
    "![](data/remplissage_carres2.png)\n",
    "\n",
    "Un algorithme glouton va chercher à positionner d'abord le plus grand carré possible (figure 1). \n",
    "\n",
    "C'est une stratégie efficace (8 carrés nécessaires), mais qui n'est pas optimale : la figure 2 présente un pavage avec seulement 6 carrés.\n",
    "\n",
    "Est-ce qu'un algorithme glouton va toujours passer à côté de la solution optimale ? \n",
    "Non ! Il arrive *aussi* qu'il donne la solution optimale. Changeons le rectangle initial en un rectangle de 10 sur 15 :\n",
    "\n",
    "![](data/remplissage_carres3.png)\n",
    "\n",
    "Dans cette situation, l'algorithme glouton nous amène à la solution optimale."
   ]
  },
  {
   "cell_type": "markdown",
   "metadata": {
    "colab_type": "text",
    "id": "lDF7RpDlNGMn"
   },
   "source": [
    "## Conclusion :\n"
   ]
  },
  {
   "cell_type": "markdown",
   "metadata": {
    "colab_type": "text",
    "id": "9rXUEsmeN3Cu"
   },
   "source": [
    "Un algorithme glouton est une méthode rapide et souvent efficace, mais qui ne garantit pas l'optimalité de la solution trouvée.\n",
    "\n",
    "**La succession de meilleurs choix LOCAUX va nous amener à une *bonne* solution GLOBALE, mais ne nous garantit pas d'arriver à la solution optimale.**"
   ]
  },
  {
   "cell_type": "markdown",
   "metadata": {
    "colab_type": "text",
    "id": "HXPPjMCKOJsV"
   },
   "source": [
    "##  2. Le problème du rendu de monnaie"
   ]
  },
  {
   "cell_type": "markdown",
   "metadata": {
    "colab_type": "text",
    "id": "-EY_wwgVQmHS"
   },
   "source": [
    "Nous allons travailler avec des pièces (ou billets) de 1, 2, 5, 10, 20, 50, 100, 200 euros.\n",
    "\n",
    "L'objectif est de créer un programme renvoyant, pour une somme ```somme_a_rendre``` entrée en paramètre, la combinaison utilisant un **minimum** de pièces ou de billets pour fabriquer la somme ```somme_a_rendre```. \n",
    "\n",
    "Par exemple, lorsque vous payez avec 20 € un objet coûtant 11 €, vous préférez qu'on vous rende vos 9 € de monnaie par $$ 9 = 5 + 2+2$$ plutôt que par $$ 9=2+2+2+1+1+1$$\n",
    "\n",
    "La résolution de ce problème peut se faire de manière gloutonne : à chaque étape, vous allez essayer de rendre la plus grosse pièce (ou billet) possible."
   ]
  },
  {
   "cell_type": "markdown",
   "metadata": {},
   "source": [
    "### 2.1 Solution du problème"
   ]
  },
  {
   "cell_type": "code",
   "execution_count": 4,
   "metadata": {
    "colab": {},
    "colab_type": "code",
    "id": "ztV_qD-XUIMw"
   },
   "outputs": [],
   "source": [
    "pieces  = [1,2,5,10,20,50,100,200]\n",
    "\n",
    "def rendu(somme_a_rendre):\n",
    "\n",
    "    \n",
    "    \n",
    "    \n",
    "    \n",
    "    return solution\n"
   ]
  },
  {
   "cell_type": "markdown",
   "metadata": {
    "colab_type": "text",
    "id": "aYV8SfytCPcW"
   },
   "source": [
    "utilisation : rendu(13) doit renvoyer [10,2,1]"
   ]
  },
  {
   "cell_type": "code",
   "execution_count": 5,
   "metadata": {
    "colab": {},
    "colab_type": "code",
    "id": "DIGwyZnVCWya"
   },
   "outputs": [
    {
     "data": {
      "text/plain": [
       "[10, 2, 1]"
      ]
     },
     "execution_count": 5,
     "metadata": {},
     "output_type": "execute_result"
    }
   ],
   "source": [
    "rendu(13)"
   ]
  },
  {
   "cell_type": "code",
   "execution_count": 6,
   "metadata": {},
   "outputs": [
    {
     "data": {
      "text/plain": [
       "[50, 5, 2, 1]"
      ]
     },
     "execution_count": 6,
     "metadata": {},
     "output_type": "execute_result"
    }
   ],
   "source": [
    "rendu(58)"
   ]
  },
  {
   "cell_type": "markdown",
   "metadata": {
    "colab_type": "text",
    "id": "ysd1s9Vzn_eo"
   },
   "source": [
    "### 2.2 Une solution optimale ?"
   ]
  },
  {
   "cell_type": "markdown",
   "metadata": {
    "colab_type": "text",
    "id": "fx0l9Sd6oL2n"
   },
   "source": [
    "Imaginons qu'il n'y ait plus de pièces de 10 et 5 euros. \n",
    "Faites fonctionner votre algorithme pour la somme de 63 euros."
   ]
  },
  {
   "cell_type": "code",
   "execution_count": 12,
   "metadata": {
    "colab": {},
    "colab_type": "code",
    "id": "fZ9PvT8ioGlV"
   },
   "outputs": [],
   "source": []
  },
  {
   "cell_type": "code",
   "execution_count": null,
   "metadata": {},
   "outputs": [],
   "source": [
    "rendu(63)"
   ]
  },
  {
   "cell_type": "markdown",
   "metadata": {},
   "source": [
    "Damned ! Mais ce n'est pas une solution optimale !  \n",
    "`[20, 20, 20, 2, 1]` serait bien mieux.\n",
    "\n",
    "**Moralité** : Lors d'un rendu de monnaie, l'algorithme glouton n'est optimal que _sous certaines conditions_, ce qui est un peu décevant. Un système de monnaie qui rend l'algorithme glouton est dit **canonique**. Il est difficile de caractériser mathématiquement si un système de monnaie est canonique ou pas."
   ]
  },
  {
   "cell_type": "markdown",
   "metadata": {
    "colab_type": "text",
    "id": "2TSnOoiGomlW"
   },
   "source": [
    "## 3. Le problème du sac à dos _(Knapsack Problem)_"
   ]
  },
  {
   "cell_type": "markdown",
   "metadata": {
    "colab_type": "text",
    "id": "MgNVfg2H0iRP"
   },
   "source": [
    "![Texte alternatif…](data/kp.png)\n",
    "\n"
   ]
  },
  {
   "cell_type": "markdown",
   "metadata": {
    "colab_type": "text",
    "id": "6Kc01aAi0c2H"
   },
   "source": [
    "Le problème est celui-ci : vous diposez d'un sac d'une contenance limitée (sur le dessin ci-dessus, 15kg) et vous souhaitez maximiser la valeur totale des objets que vous mettez dans votre sac. Evidemment, la somme de leur masse ne doit pas dépasser 15 kg."
   ]
  },
  {
   "cell_type": "markdown",
   "metadata": {
    "colab_type": "text",
    "id": "7anQGgcvoxQc"
   },
   "source": [
    "Ce problème (de la catégorie des problème dits d'_analyse combinatoire_), malgré sa simplicité est un problème majeur d'optimisation. \n",
    "\n",
    "Actuellement :\n",
    "\n",
    "\n",
    "*   On sait trouver LA meilleure solution, mais en explorant toutes les combinaisons une par une. Cette méthode par **force brute** est inapplicable si beaucoup d'objets sont en jeu.\n",
    "*   On sait facilement trouver une _bonne_ solution, mais pas forcément la meilleure, par exemple en adoptant une stratégie gloutonne.\n",
    "* On ne sait pas trouver facilement (en temps polynomial) la meilleure solution. Si vous y arrivez, [1 Million de $](https://www.claymath.org/millennium-problems/p-vs-np-problem) sont pour vous.\n",
    "\n"
   ]
  },
  {
   "cell_type": "markdown",
   "metadata": {
    "colab_type": "text",
    "id": "CX6OFFLc_wRN"
   },
   "source": [
    "## Petite aide technique avant de commencer"
   ]
  },
  {
   "cell_type": "markdown",
   "metadata": {
    "colab_type": "text",
    "id": "b_5_KZ3e_7Eo"
   },
   "source": [
    "Supposons qu'on dispose d'une liste  `mylist = [[\"A\",3], [\"B\",2], [\"C\",8]]`. \n",
    "\n",
    "Comment classer les éléments de cette liste par leur deuxième élément ???\n",
    "\n",
    "Nous allons procéder en 2 temps :\n",
    "- création d'une fonction qui renvoie le deuxième élément d'un objet liste\n",
    "- tri de la liste grâce à cette fonction"
   ]
  },
  {
   "cell_type": "code",
   "execution_count": 0,
   "metadata": {
    "colab": {},
    "colab_type": "code",
    "id": "7K5MDvjnAsnE"
   },
   "outputs": [],
   "source": [
    "mylist = [[\"A\",3], [\"B\",2], [\"C\",8]]"
   ]
  },
  {
   "cell_type": "code",
   "execution_count": 0,
   "metadata": {
    "colab": {
     "base_uri": "https://localhost:8080/",
     "height": 35
    },
    "colab_type": "code",
    "executionInfo": {
     "elapsed": 489,
     "status": "ok",
     "timestamp": 1586188142682,
     "user": {
      "displayName": "nsi glassus",
      "photoUrl": "",
      "userId": "16422938971985642078"
     },
     "user_tz": -120
    },
    "id": "pzxRLaNQAx-t",
    "outputId": "fed29041-6dbd-4de8-91fe-85ab639abc44"
   },
   "outputs": [
    {
     "data": {
      "text/plain": [
       "'Lisa'"
      ]
     },
     "execution_count": 15,
     "metadata": {
      "tags": []
     },
     "output_type": "execute_result"
    }
   ],
   "source": [
    "def ledeuxieme(k) :\n",
    "    return k[1]\n",
    "\n",
    "simpsons = ['Bart', 'Lisa', 'Maggie']\n",
    "ledeuxieme(simpsons)"
   ]
  },
  {
   "cell_type": "code",
   "execution_count": 0,
   "metadata": {
    "colab": {
     "base_uri": "https://localhost:8080/",
     "height": 35
    },
    "colab_type": "code",
    "executionInfo": {
     "elapsed": 589,
     "status": "ok",
     "timestamp": 1586185431578,
     "user": {
      "displayName": "nsi glassus",
      "photoUrl": "",
      "userId": "16422938971985642078"
     },
     "user_tz": -120
    },
    "id": "1ji_MAGSA8Nw",
    "outputId": "3bbc18e5-3417-4332-f101-e961cab22270"
   },
   "outputs": [
    {
     "name": "stdout",
     "output_type": "stream",
     "text": [
      "[['C', 8], ['A', 3], ['B', 2]]\n"
     ]
    }
   ],
   "source": [
    "mynewlist = sorted(mylist, key = ledeuxieme, reverse = True)\n",
    "print(mynewlist)\n"
   ]
  },
  {
   "cell_type": "markdown",
   "metadata": {
    "colab_type": "text",
    "id": "G5TnZ4K4BWSk"
   },
   "source": [
    "## Retour sur le problème du sac à dos\n",
    "On considère un sac de 40 kg et les objets suivants :\n",
    "\n",
    "| objet  |  A  |  B  |  C  |  D  |  E  |  F  |\n",
    "|:------:|:---:|:---:|:---:|:---:|:---:|:---:|\n",
    "|  masse |  13 |  12 |  8  |  10 |  14 |  18 |\n",
    "| valeur | 700 | 500 | 200 | 300 | 600 | 800 |\n",
    "\n",
    "Quels objets faut-il prendre ?\n",
    "\n",
    "**stratégie gloutonne :**\n",
    "- on va classer les objets dans l'ordre décroissant de leur taux de valeur (taux de valeur = valeur / masse). Ainsi le premier élément de la liste sera celui ayant le meilleur rapport valeur/masse.\n",
    "- on prend le premier élément de la liste, puis le deuxième, etc., tant que le sac peut encore les contenir.\n"
   ]
  },
  {
   "cell_type": "code",
   "execution_count": 14,
   "metadata": {
    "colab": {},
    "colab_type": "code",
    "id": "_fay9ql2BhCG"
   },
   "outputs": [],
   "source": [
    "obj =[[\"A\",13,700], [\"B\",12,500], [\"C\",8,200], [\"D\",10,300],[\"E\", 14,600],[\"F\",18,800]]\n",
    "poids_max = 40"
   ]
  },
  {
   "cell_type": "code",
   "execution_count": 15,
   "metadata": {
    "colab": {},
    "colab_type": "code",
    "id": "-oDvrRmwdEFG"
   },
   "outputs": [],
   "source": [
    "def ratio(objet):\n",
    "    # renvoie le rapport prix/poids d'un objet\n",
    "    return ...\n",
    "\n",
    "obj_tries = sorted(..., key = ..., reverse = True)\n"
   ]
  },
  {
   "cell_type": "code",
   "execution_count": 16,
   "metadata": {
    "colab": {
     "base_uri": "https://localhost:8080/",
     "height": 124
    },
    "colab_type": "code",
    "executionInfo": {
     "elapsed": 786,
     "status": "ok",
     "timestamp": 1586445245093,
     "user": {
      "displayName": "nsi glassus",
      "photoUrl": "",
      "userId": "16422938971985642078"
     },
     "user_tz": -120
    },
    "id": "Dpyx32L5dEKq",
    "outputId": "c12f8b86-aed8-4bd9-f3bb-c7b0d054f24e"
   },
   "outputs": [
    {
     "data": {
      "text/plain": [
       "[['A', 13, 700],\n",
       " ['F', 18, 800],\n",
       " ['E', 14, 600],\n",
       " ['B', 12, 500],\n",
       " ['D', 10, 300],\n",
       " ['C', 8, 200]]"
      ]
     },
     "execution_count": 16,
     "metadata": {},
     "output_type": "execute_result"
    }
   ],
   "source": [
    "obj_tries"
   ]
  },
  {
   "cell_type": "markdown",
   "metadata": {},
   "source": [
    "**Calcul de la solution, par méthode gloutonne**"
   ]
  },
  {
   "cell_type": "code",
   "execution_count": null,
   "metadata": {},
   "outputs": [],
   "source": []
  },
  {
   "cell_type": "code",
   "execution_count": null,
   "metadata": {
    "colab": {
     "base_uri": "https://localhost:8080/",
     "height": 35
    },
    "colab_type": "code",
    "executionInfo": {
     "elapsed": 1286,
     "status": "ok",
     "timestamp": 1586447375514,
     "user": {
      "displayName": "nsi glassus",
      "photoUrl": "",
      "userId": "16422938971985642078"
     },
     "user_tz": -120
    },
    "id": "bWTJb6oUdEU2",
    "outputId": "16da608f-992d-4236-9fb0-787855dceb47"
   },
   "outputs": [],
   "source": [
    "obj =[[\"A\",13,700], [\"B\",12,500], [\"C\",8,200], [\"D\",10,300],[\"E\", 14,600],[\"F\",18,800]]\n",
    "\n",
    "def ratio(objet):\n",
    "    # renvoie le rapport prix/poids d'un objet\n",
    "    return objet[2] / objet[1]\n",
    "\n",
    "obj_tries = sorted(obj, key = ratio, reverse = True)\n",
    "\n",
    "poids_max = 40\n",
    "poids_sac = 0\n",
    "\n",
    "butin = []\n",
    "\n",
    "for i in range(len(obj_tries)):\n",
    "    poids_objet = obj_tries[i][1]\n",
    "    if ... :\n",
    "        butin.append(...)\n",
    "        poids_sac += ...\n",
    "\n",
    "print(butin)"
   ]
  },
  {
   "cell_type": "markdown",
   "metadata": {
    "colab": {},
    "colab_type": "code",
    "id": "ZHI-kQTYdEc0"
   },
   "source": [
    "### Question  (toujours la même) : \n",
    "L'algorithme glouton nous a-t-il donné la solution **optimale** ?  \n",
    "Nous allons pour cela avoir recours à la force brute pour tester toutes les combinaisons possibles."
   ]
  },
  {
   "cell_type": "markdown",
   "metadata": {
    "colab_type": "text",
    "id": "-zitqqCtIWVH"
   },
   "source": [
    "### Force brute \n",
    "- Il faut créer une liste de mots binaires qui vont correspondre à chaque combinaison. Par exemple, '101001' signifiera qu'on prend les objets A, C et F.\n",
    "Cette liste est de taille $2^n$, où $n$ est le nombre d'objets. C'est cela qui pose problème : avec 80 objets, on obtient une liste à traiter qui contient plus de $10^{24}$ objets, soit de l'ordre de grandeur du nombre d'étoiles dans l'Univers observable, ou de gouttes d'eau dans la mer, ou du nombre de grains de sables au Sahara... https://fr.wikipedia.org/wiki/Ordres_de_grandeur_de_nombres\n",
    "- Une fois cette liste établie, il suffit de parcourir chaque élément et de calculer le poids total et la valeur totale correspondante. Si le poids total dépasse le poids autorisé, on met la valeur à 0 car cette combinaison ne nous intéresse pas.\n",
    "- Il ne reste qu'à chercher la valeur maximale et regarder la combinaison à laquelle elle correspond."
   ]
  },
  {
   "cell_type": "code",
   "execution_count": 18,
   "metadata": {
    "colab": {},
    "colab_type": "code",
    "id": "67QUfzsgKul9"
   },
   "outputs": [],
   "source": [
    "obj =[[\"A\",13,700], [\"B\",12,500], [\"C\",8,200], [\"D\",10,300],[\"E\", 14,600],[\"F\",18,800]]\n",
    "poids_max = 40"
   ]
  },
  {
   "cell_type": "code",
   "execution_count": 19,
   "metadata": {
    "colab": {},
    "colab_type": "code",
    "id": "NIcCXq9hlgJW"
   },
   "outputs": [],
   "source": [
    "comb = []\n",
    "for i in range(2**len(obj)):\n",
    "    k = bin(i)[2:]\n",
    "    s = '0'*(len(obj)-len(k)) + k\n",
    "    comb.append(s)"
   ]
  },
  {
   "cell_type": "markdown",
   "metadata": {},
   "source": [
    "La liste `comb` contient bien toutes les mots possibles sur 6 bits."
   ]
  },
  {
   "cell_type": "code",
   "execution_count": 26,
   "metadata": {
    "colab": {
     "base_uri": "https://localhost:8080/",
     "height": 1000
    },
    "colab_type": "code",
    "executionInfo": {
     "elapsed": 848,
     "status": "ok",
     "timestamp": 1586446946522,
     "user": {
      "displayName": "nsi glassus",
      "photoUrl": "",
      "userId": "16422938971985642078"
     },
     "user_tz": -120
    },
    "id": "icG6OqjAln6U",
    "outputId": "778b8bec-41c4-4487-db64-3f4cfee402f6"
   },
   "outputs": [
    {
     "data": {
      "text/plain": [
       "['000000',\n",
       " '000001',\n",
       " '000010',\n",
       " '000011',\n",
       " '000100',\n",
       " '000101',\n",
       " '000110',\n",
       " '000111',\n",
       " '001000',\n",
       " '001001',\n",
       " '001010',\n",
       " '001011',\n",
       " '001100',\n",
       " '001101',\n",
       " '001110',\n",
       " '001111',\n",
       " '010000',\n",
       " '010001',\n",
       " '010010',\n",
       " '010011',\n",
       " '010100',\n",
       " '010101',\n",
       " '010110',\n",
       " '010111',\n",
       " '011000',\n",
       " '011001',\n",
       " '011010',\n",
       " '011011',\n",
       " '011100',\n",
       " '011101',\n",
       " '011110',\n",
       " '011111',\n",
       " '100000',\n",
       " '100001',\n",
       " '100010',\n",
       " '100011',\n",
       " '100100',\n",
       " '100101',\n",
       " '100110',\n",
       " '100111',\n",
       " '101000',\n",
       " '101001',\n",
       " '101010',\n",
       " '101011',\n",
       " '101100',\n",
       " '101101',\n",
       " '101110',\n",
       " '101111',\n",
       " '110000',\n",
       " '110001',\n",
       " '110010',\n",
       " '110011',\n",
       " '110100',\n",
       " '110101',\n",
       " '110110',\n",
       " '110111',\n",
       " '111000',\n",
       " '111001',\n",
       " '111010',\n",
       " '111011',\n",
       " '111100',\n",
       " '111101',\n",
       " '111110',\n",
       " '111111']"
      ]
     },
     "execution_count": 26,
     "metadata": {
      "tags": []
     },
     "output_type": "execute_result"
    }
   ],
   "source": [
    "comb"
   ]
  },
  {
   "cell_type": "code",
   "execution_count": 0,
   "metadata": {
    "colab": {},
    "colab_type": "code",
    "id": "zc0UWf3Il8B4"
   },
   "outputs": [],
   "source": [
    "v = [] \n",
    "p = []\n",
    "for k in comb :\n",
    "    poids_comb = 0\n",
    "    valeur = 0\n",
    "    for i in range(len(obj)): \n",
    "        if k[i] == '1':\n",
    "            poids_comb += obj[i][1]\n",
    "            valeur += obj[i][2]\n",
    "    if poids_comb > poids_max :\n",
    "        valeur = 0\n",
    "    v.append(valeur)\n",
    "    p.append(poids_comb)"
   ]
  },
  {
   "cell_type": "code",
   "execution_count": 0,
   "metadata": {
    "colab": {},
    "colab_type": "code",
    "id": "HzyGWRMDlol-"
   },
   "outputs": [],
   "source": [
    "m = max(v)\n",
    "sol_comb = comb[v.index(m)]\n",
    "poids_comb = p[v.index(m)]"
   ]
  },
  {
   "cell_type": "code",
   "execution_count": 38,
   "metadata": {
    "colab": {
     "base_uri": "https://localhost:8080/",
     "height": 35
    },
    "colab_type": "code",
    "executionInfo": {
     "elapsed": 733,
     "status": "ok",
     "timestamp": 1586447399232,
     "user": {
      "displayName": "nsi glassus",
      "photoUrl": "",
      "userId": "16422938971985642078"
     },
     "user_tz": -120
    },
    "id": "AwN_wiRimwdL",
    "outputId": "0b083af0-2767-451c-fe34-4ae7a11731ed"
   },
   "outputs": [
    {
     "data": {
      "text/plain": [
       "'101001'"
      ]
     },
     "execution_count": 38,
     "metadata": {
      "tags": []
     },
     "output_type": "execute_result"
    }
   ],
   "source": [
    "sol_comb"
   ]
  },
  {
   "cell_type": "code",
   "execution_count": 39,
   "metadata": {
    "colab": {
     "base_uri": "https://localhost:8080/",
     "height": 35
    },
    "colab_type": "code",
    "executionInfo": {
     "elapsed": 793,
     "status": "ok",
     "timestamp": 1586447401515,
     "user": {
      "displayName": "nsi glassus",
      "photoUrl": "",
      "userId": "16422938971985642078"
     },
     "user_tz": -120
    },
    "id": "0cszqWJPnixQ",
    "outputId": "8e08a242-c01a-448c-c3ae-bc72ffd5fc70"
   },
   "outputs": [
    {
     "data": {
      "text/plain": [
       "39"
      ]
     },
     "execution_count": 39,
     "metadata": {
      "tags": []
     },
     "output_type": "execute_result"
    }
   ],
   "source": [
    "poids_comb"
   ]
  },
  {
   "cell_type": "code",
   "execution_count": 40,
   "metadata": {
    "colab": {
     "base_uri": "https://localhost:8080/",
     "height": 35
    },
    "colab_type": "code",
    "executionInfo": {
     "elapsed": 878,
     "status": "ok",
     "timestamp": 1586447404176,
     "user": {
      "displayName": "nsi glassus",
      "photoUrl": "",
      "userId": "16422938971985642078"
     },
     "user_tz": -120
    },
    "id": "iwnbLDXMnl22",
    "outputId": "2cd8f942-3a81-4cd0-f236-a580d67c9d7b"
   },
   "outputs": [
    {
     "name": "stdout",
     "output_type": "stream",
     "text": [
      "ACF\n"
     ]
    }
   ],
   "source": [
    "mot_sol = \"\"\n",
    "for k in range(len(sol_comb)) :\n",
    "    if sol_comb[k] == '1' :\n",
    "        mot_sol += obj[k][0]\n",
    "print(mot_sol)     "
   ]
  },
  {
   "cell_type": "markdown",
   "metadata": {},
   "source": [
    "re-Damned ! La force brute a mis en évidence une combinaison **meilleure que celle donnée par l'algorithme glouton**. Par contre, la force brute est inenvisageable pour si le nombre d'objets est grand, alors que la stratégie gloutonne reste très rapide."
   ]
  },
  {
   "cell_type": "markdown",
   "metadata": {
    "colab": {},
    "colab_type": "code",
    "id": "f3r3CACsqyue"
   },
   "source": [
    "## Conclusion "
   ]
  },
  {
   "cell_type": "markdown",
   "metadata": {},
   "source": [
    "La stratégie gloutonne donne très rapidement des solutions **satisfaisantes** mais **pas forcément optimales**. Pour beaucoup de problèmes (dont le problème du sac à dos), la recherche d'une solution optimale sans passer par la force brute semble impossible (mais n'est pas démontrée).  \n",
    "Dans ce cas-là, la stratégie gloutonne peut être employée pour avoir vite et bien une solution convenable, même si peut-être non optimale."
   ]
  }
 ],
 "metadata": {
  "colab": {
   "authorship_tag": "ABX9TyOI6CfmBaF2V302HILyPtuI",
   "collapsed_sections": [],
   "name": "PROF_06_Algorithmes_gloutons.ipynb",
   "provenance": []
  },
  "kernelspec": {
   "display_name": "Python 3",
   "language": "python",
   "name": "python3"
  },
  "language_info": {
   "codemirror_mode": {
    "name": "ipython",
    "version": 3
   },
   "file_extension": ".py",
   "mimetype": "text/x-python",
   "name": "python",
   "nbconvert_exporter": "python",
   "pygments_lexer": "ipython3",
   "version": "3.6.9"
  },
  "toc": {
   "base_numbering": 1,
   "nav_menu": {},
   "number_sections": false,
   "sideBar": true,
   "skip_h1_title": false,
   "title_cell": "Table of Contents",
   "title_sidebar": "Contents",
   "toc_cell": false,
   "toc_position": {},
   "toc_section_display": true,
   "toc_window_display": true
  }
 },
 "nbformat": 4,
 "nbformat_minor": 1
}
