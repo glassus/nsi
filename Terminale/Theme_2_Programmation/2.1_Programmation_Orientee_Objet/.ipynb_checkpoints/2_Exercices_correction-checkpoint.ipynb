{
 "cells": [
  {
   "cell_type": "markdown",
   "metadata": {
    "colab_type": "text",
    "id": "ON4jLhnq1zA4"
   },
   "source": [
    "# Exercices de POO"
   ]
  },
  {
   "cell_type": "markdown",
   "metadata": {
    "colab_type": "text",
    "id": "XPdjNmAl1zA8"
   },
   "source": [
    "## Exercice 1\n",
    "1. Écrire une classe ```Eleve``` qui contiendra les attributs ```nom```, ```classe``` et ```note```.\n",
    "2. Instancier trois élèves de cette classe.\n",
    "3. Écrire une fonction ```compare(eleve1, eleve2)``` qui renvoie le nom de l'élève ayant la meilleure note."
   ]
  },
  {
   "cell_type": "code",
   "execution_count": 1,
   "metadata": {
    "colab": {},
    "colab_type": "code",
    "executionInfo": {
     "elapsed": 1394,
     "status": "ok",
     "timestamp": 1599726648574,
     "user": {
      "displayName": "glassus",
      "photoUrl": "",
      "userId": "06030054439886051871"
     },
     "user_tz": -120
    },
    "id": "fysQL7_P23wH"
   },
   "outputs": [],
   "source": [
    "class Eleve :\n",
    "  def __init__(self, nom, classe, note) :\n",
    "    self.nom = nom\n",
    "    self.classe = classe\n",
    "    self.note = note"
   ]
  },
  {
   "cell_type": "code",
   "execution_count": 4,
   "metadata": {
    "colab": {},
    "colab_type": "code",
    "executionInfo": {
     "elapsed": 565,
     "status": "ok",
     "timestamp": 1599726873747,
     "user": {
      "displayName": "glassus",
      "photoUrl": "",
      "userId": "06030054439886051871"
     },
     "user_tz": -120
    },
    "id": "5RB9M47FI4-V"
   },
   "outputs": [],
   "source": [
    "riri = Eleve(\"Riri\", \"TG1\", 12)\n",
    "fifi = Eleve(\"Fifi\", \"TG1\", 15)\n",
    "loulou = Eleve(\"Loulou\", \"TG1\", 10)"
   ]
  },
  {
   "cell_type": "code",
   "execution_count": 5,
   "metadata": {
    "colab": {
     "base_uri": "https://localhost:8080/",
     "height": 34
    },
    "colab_type": "code",
    "executionInfo": {
     "elapsed": 860,
     "status": "ok",
     "timestamp": 1599726876095,
     "user": {
      "displayName": "glassus",
      "photoUrl": "",
      "userId": "06030054439886051871"
     },
     "user_tz": -120
    },
    "id": "PKKrNLloJZmZ",
    "outputId": "02aade20-529d-44c0-a207-a44226955d9c"
   },
   "outputs": [
    {
     "name": "stdout",
     "output_type": "stream",
     "text": [
      "Fifi\n"
     ]
    }
   ],
   "source": [
    "def compare(eleve1, eleve2):\n",
    "  if eleve1.note > eleve2.note :\n",
    "    print(eleve1.nom)\n",
    "  else :\n",
    "    print(eleve2.nom)\n",
    "\n",
    "compare(riri, fifi)"
   ]
  },
  {
   "cell_type": "markdown",
   "metadata": {
    "colab_type": "text",
    "id": "-pSmX41n1zBA"
   },
   "source": [
    "## Exercice 2\n",
    "Écrire une classe ```TriangleRect``` qui contiendra les attributs ```cote1```, ```cote2``` et ```hypothenuse```.\n",
    "La méthode constructeur ne prendra en paramètres que ```cote1``` et ```cote2```."
   ]
  },
  {
   "cell_type": "code",
   "execution_count": null,
   "metadata": {
    "colab": {},
    "colab_type": "code",
    "id": "7GPmg4dcKJdb"
   },
   "outputs": [],
   "source": [
    "class TriangleRect:\n",
    "  def __init__(self, cote1, cote2):\n",
    "    self.cote1 = cote1\n",
    "    self.cote2 = cote2\n",
    "    self.hypothenuse = (self.cote1**2+self.cote2**2)**0.5"
   ]
  },
  {
   "cell_type": "markdown",
   "metadata": {
    "colab_type": "text",
    "id": "0k3IzGyp1zBE"
   },
   "source": [
    "## Exercice 3\n",
    "1. Écrire une classe ```Chrono``` qui contiendra les attributs ```heures```, ```minutes``` et ```secondes```.\n",
    "2. Doter la classe d'une méthode ```affiche()``` qui fera affichera le temps ```t```.\n",
    "3. Doter la classe d'une méthode ```avance(s)``` qui fera avancer le temps ```t``` de ```s``` secondes."
   ]
  },
  {
   "cell_type": "code",
   "execution_count": 19,
   "metadata": {
    "colab": {
     "base_uri": "https://localhost:8080/",
     "height": 52
    },
    "colab_type": "code",
    "executionInfo": {
     "elapsed": 576,
     "status": "ok",
     "timestamp": 1599729195389,
     "user": {
      "displayName": "glassus",
      "photoUrl": "",
      "userId": "06030054439886051871"
     },
     "user_tz": -120
    },
    "id": "AKvwMQ2r1zBH",
    "outputId": "8f24bb5d-ea96-4605-f858-9f129b9f59f4"
   },
   "outputs": [
    {
     "name": "stdout",
     "output_type": "stream",
     "text": [
      "il est 10 heures, 59 minutes et 58 secondes\n",
      "il est 11 heures, 0 minutes et 14 secondes\n"
     ]
    }
   ],
   "source": [
    "class Chrono:\n",
    "  def __init__(self, h, m, s):\n",
    "    self.heures = h\n",
    "    self.minutes = m\n",
    "    self.secondes = s\n",
    "\n",
    "  def affiche(self) :\n",
    "    print(\"il est {0} heures, {1} minutes et {2} secondes\".format(self.heures, self.minutes, self.secondes))\n",
    "\n",
    "  def avance(self, s) :\n",
    "    self.secondes += s\n",
    "    self.minutes += self.secondes // 60\n",
    "    self.secondes = self.secondes % 60\n",
    "\n",
    "    self.heures += self.minutes // 60\n",
    "    self.minutes = self.minutes % 60\n",
    "\n",
    "\n",
    "\n",
    "t = Chrono(10,59,58)\n",
    "t.affiche()\n",
    "t.avance(16)\n",
    "t.affiche()"
   ]
  },
  {
   "cell_type": "code",
   "execution_count": null,
   "metadata": {
    "colab": {},
    "colab_type": "code",
    "id": "aR-B4fGXQTvL"
   },
   "outputs": [],
   "source": []
  }
 ],
 "metadata": {
  "colab": {
   "name": "2_Exercices_correction.ipynb",
   "provenance": [
    {
     "file_id": "https://github.com/glassus/nsi/blob/master/Terminale/Theme_2_Programmation/2.1_Programmation_Orientee_Objet/2_Exercices.ipynb",
     "timestamp": 1599570716636
    }
   ]
  },
  "kernelspec": {
   "display_name": "Python 3",
   "language": "python",
   "name": "python3"
  },
  "language_info": {
   "codemirror_mode": {
    "name": "ipython",
    "version": 3
   },
   "file_extension": ".py",
   "mimetype": "text/x-python",
   "name": "python",
   "nbconvert_exporter": "python",
   "pygments_lexer": "ipython3",
   "version": "3.8.10"
  }
 },
 "nbformat": 4,
 "nbformat_minor": 1
}
