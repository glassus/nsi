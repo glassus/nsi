{
 "cells": [
  {
   "cell_type": "markdown",
   "metadata": {
    "colab_type": "text",
    "id": "DlsWfwVbsXGR"
   },
   "source": [
    "# TP de Programmation Orientée Objet : (beaucoup de) balles rebondissantes\n",
    "\n",
    "![dsf](https://github.com/glassus/nsi/blob/master/Terminale/Theme_2_Programmation/2.1_Programmation_Orientee_Objet/data/balles1.png?raw=1)"
   ]
  },
  {
   "cell_type": "markdown",
   "metadata": {
    "colab_type": "text",
    "id": "KuCZQ40lsXGV"
   },
   "source": [
    "## 1. Prise en main de Pygame\n",
    "> Attention, l'utilisation de Pygame au sein de Jupyter provoque des plantages de noyau. Il est préférable d'utiliser un autre IDE ou bien un https://repl.it/ (choisir le langage Pygame).  \n",
    "Testez le code suivant :"
   ]
  },
  {
   "cell_type": "code",
   "execution_count": 2,
   "metadata": {
    "colab": {
     "base_uri": "https://localhost:8080/",
     "height": 208
    },
    "colab_type": "code",
    "executionInfo": {
     "elapsed": 66455,
     "status": "error",
     "timestamp": 1600370005139,
     "user": {
      "displayName": "glassus",
      "photoUrl": "",
      "userId": "06030054439886051871"
     },
     "user_tz": -120
    },
    "id": "T8mO47S6sXGZ",
    "outputId": "19304b47-5e7f-46b8-b4bd-2c0b882b96b8",
    "scrolled": false
   },
   "outputs": [
    {
     "ename": "SystemExit",
     "evalue": "",
     "output_type": "error",
     "traceback": [
      "An exception has occurred, use %tb to see the full traceback.\n",
      "\u001b[0;31mSystemExit\u001b[0m\n"
     ]
    }
   ],
   "source": [
    "import pygame, sys\n",
    "import time\n",
    "from pygame.locals import *\n",
    "\n",
    "\n",
    "\n",
    "pygame.display.init()\n",
    "fenetre = pygame.display.set_mode((640, 480))\n",
    "fenetre.fill([0,0,0])\n",
    "\n",
    "x = 300\n",
    "y = 200\n",
    "dx = 4\n",
    "dy = -3\n",
    "couleur = (45,170,250)\n",
    "\n",
    "while True :\n",
    "    fenetre.fill([0,0,0])\n",
    "    pygame.draw.circle(fenetre,couleur,(x,y),10)\n",
    "    \n",
    "    x += dx\n",
    "    y += dy\n",
    "    \n",
    "    pygame.display.update()\n",
    "    \n",
    "    # routine pour pouvoir fermer «proprement» la fenêtre Pygame\n",
    "    for event in pygame.event.get():\n",
    "        if event.type == pygame.QUIT:\n",
    "            pygame.display.quit()\n",
    "            sys.exit()\n",
    "    \n",
    "    \n",
    "    time.sleep(0.1)"
   ]
  },
  {
   "cell_type": "markdown",
   "metadata": {
    "colab_type": "text",
    "id": "67BrWSDvsXGu"
   },
   "source": [
    "### 1.1  Rajout d'un rebond sur les parois\n",
    "Modifiez le code précédent afin que la balle rebondisse sur chaque paroi (il suffit de modifier intelligemment les variables de vitesse ```dx``` et ```dy```).\n",
    "\n",
    "### 1.2 Rajout d'une deuxième balle\n",
    "Attention au nommage des variables...\n",
    "\n",
    "### 1.3 Gestion de la collision entre les deux balles\n",
    "1. À l'aide d'un schéma (papier-crayon !), mettez en évidence le test devant être réalisé pour détecter une collision.\n",
    "2. Implémentez ce test et affichez \"collision\" en console lorsque les deux balles se touchent.\n",
    "3. Pour l'illusion du rebond, échangez les valeurs respectives de ```dx``` et ```dy``` pour les deux balles.\n",
    "\n",
    "### 1.4 Rajout d'une troisième balle et gestion du rebond avec les deux autres.\n",
    "... vraiment ? Peut-on continuer comme précédemment ?"
   ]
  },
  {
   "cell_type": "code",
   "execution_count": 3,
   "metadata": {
    "colab": {},
    "colab_type": "code",
    "id": "DwSGtXAXBeCK"
   },
   "outputs": [
    {
     "ename": "SystemExit",
     "evalue": "",
     "output_type": "error",
     "traceback": [
      "An exception has occurred, use %tb to see the full traceback.\n",
      "\u001b[0;31mSystemExit\u001b[0m\n"
     ]
    }
   ],
   "source": [
    "import pygame, sys\n",
    "import time\n",
    "from pygame.locals import *\n",
    "\n",
    "ecran = (800,600)\n",
    "taille = 20\n",
    "\n",
    "pygame.display.init()\n",
    "fenetre = pygame.display.set_mode(ecran)\n",
    "fenetre.fill([0,0,0])\n",
    "\n",
    "ax = 300\n",
    "ay = 200\n",
    "adx = 4\n",
    "ady = -3\n",
    "acouleur = (45,170,250)\n",
    "\n",
    "bx = 100\n",
    "by = 200\n",
    "bdx = -4\n",
    "bdy = 7\n",
    "bcouleur = (250,0,250)\n",
    "\n",
    "\n",
    "\n",
    "\n",
    "while True :\n",
    "    fenetre.fill([0,0,0])\n",
    "    pygame.draw.circle(fenetre,acouleur,(ax,ay),taille)\n",
    "    pygame.draw.circle(fenetre,bcouleur,(bx,by),taille)\n",
    "    \n",
    "    ax += adx\n",
    "    ay += ady\n",
    "\n",
    "    bx += bdx\n",
    "    by += bdy\n",
    "\n",
    "    # rebonds sur les murs\n",
    "    if ax < 0+taille/2 or ax > ecran[0]-taille/2 :\n",
    "        adx = -adx\n",
    "        \n",
    "    if bx < 0+taille/2 or bx > ecran[0]-taille/2 :\n",
    "        bdx = -bdx\n",
    "        \n",
    "    if ay < 0+taille/2 or ay > ecran[1]-taille/2 :\n",
    "        ady = -ady\n",
    "        \n",
    "    if by < 0+taille/2 or by > ecran[1]-taille/2 :\n",
    "        bdy = -bdy\n",
    "\n",
    "    # collision\n",
    "    if ((ax-bx)**2+(ay-by)**2)**0.5 < 2*taille :\n",
    "        adx, bdx = bdx, adx\n",
    "        ady, bdy = bdy, ady\n",
    "\n",
    "\n",
    "\n",
    "    pygame.display.flip()\n",
    "    \n",
    "    # routine pour pouvoir fermer «proprement» la fenêtre Pygame\n",
    "    for event in pygame.event.get():\n",
    "        if event.type == pygame.QUIT:\n",
    "            pygame.display.quit()\n",
    "            sys.exit()\n",
    "    \n",
    "    \n",
    "    time.sleep(0.01)\n"
   ]
  },
  {
   "cell_type": "markdown",
   "metadata": {
    "colab_type": "text",
    "id": "_OTL2BBIsXGx"
   },
   "source": [
    "## 2. La POO à la rescousse : création d'une classe Balle"
   ]
  },
  {
   "cell_type": "markdown",
   "metadata": {
    "colab_type": "text",
    "id": "z8kjbwb1sXGz"
   },
   "source": [
    "### 2.1 la classe Balle\n",
    "L'objectif est que la méthode constructeur dote chaque nouvelle balle de valeurs aléatoires : abscisse, ordonnée, vitesse, couleur...  \n",
    "Créez cette classe et instanciez une balle.\n",
    "\n",
    "**Code final **"
   ]
  },
  {
   "cell_type": "code",
   "execution_count": 4,
   "metadata": {
    "colab": {},
    "colab_type": "code",
    "id": "0womHbCSsXG0"
   },
   "outputs": [
    {
     "ename": "SystemExit",
     "evalue": "",
     "output_type": "error",
     "traceback": [
      "An exception has occurred, use %tb to see the full traceback.\n",
      "\u001b[0;31mSystemExit\u001b[0m\n"
     ]
    }
   ],
   "source": [
    "import pygame, sys\n",
    "import time\n",
    "from pygame.locals import *\n",
    "from random import randint\n",
    "\n",
    "clock = pygame.time.Clock()\n",
    "\n",
    "ecran = (640,480)\n",
    "FPS = 30\n",
    "\n",
    "taille = 10\n",
    "\n",
    "pygame.display.init()\n",
    "fenetre = pygame.display.set_mode(ecran)\n",
    "fenetre.fill([0,0,0])\n",
    "\n",
    "class Balle :\n",
    "    def __init__(self):\n",
    "        self.x = randint(0,ecran[0])\n",
    "        self.y = randint(0,ecran[1])       \n",
    "        self.dx = randint(-5,5)\n",
    "        self.dy = randint(-5,5)\n",
    "        self.color = (randint(0,255),\n",
    "                      randint(0,255),\n",
    "                      randint(0,255))\n",
    "        self.taille = taille\n",
    "        \n",
    "    def move(self):\n",
    "        # mouvement de la balle self\n",
    "        self.x += self.dx\n",
    "        self.y += self.dy\n",
    "        \n",
    "        # rebond de la balle self\n",
    "        if self.x < self.taille or self.x > ecran[0]-self.taille :\n",
    "            self.dx = -self.dx\n",
    "        if self.y < self.taille or self.y > ecran[1]-self.taille :\n",
    "            self.dy = -self.dy\n",
    "            \n",
    "        # collision de la balle self avec les autres balles\n",
    "        for b in liste_balles :\n",
    "            if ((b.x-self.x)**2 + (b.y-self.y)**2)**0.5 < self.taille + b.taille :\n",
    "                # on échange les dx\n",
    "                b.dx, self.dx = self.dx, b.dx\n",
    "                # on échange les dy\n",
    "                b.dy, self.dy = self.dy, b.dy              \n",
    "        \n",
    "        \n",
    "    \n",
    "    def draw(self):\n",
    "        pygame.draw.circle(fenetre,self.color,\n",
    "                           (self.x,self.y),\n",
    "                           self.taille)\n",
    "\n",
    "liste_balles = []\n",
    "for k in range(100):\n",
    "    b = Balle()\n",
    "    liste_balles.append(b)  \n",
    "        \n",
    "while True :\n",
    "\n",
    "    fenetre.fill([0,0,0])\n",
    "    for b in liste_balles :\n",
    "        b.move()\n",
    "        b.draw() \n",
    "    \n",
    "\n",
    "    \n",
    "    pygame.display.flip()\n",
    "    \n",
    "    # routine pour pouvoir fermer «proprement» la fenêtre Pygame\n",
    "    for event in pygame.event.get():\n",
    "        if event.type == pygame.QUIT:\n",
    "            pygame.display.quit()\n",
    "            sys.exit()\n",
    "    \n",
    "    clock.tick(FPS)\n"
   ]
  },
  {
   "cell_type": "markdown",
   "metadata": {},
   "source": [
    "## 3. Épidémiologie"
   ]
  },
  {
   "cell_type": "markdown",
   "metadata": {},
   "source": [
    "### 3.1 rajout d'un attribut «malade»"
   ]
  },
  {
   "cell_type": "code",
   "execution_count": 7,
   "metadata": {},
   "outputs": [
    {
     "ename": "SystemExit",
     "evalue": "",
     "output_type": "error",
     "traceback": [
      "An exception has occurred, use %tb to see the full traceback.\n",
      "\u001b[0;31mSystemExit\u001b[0m\n"
     ]
    }
   ],
   "source": [
    "import pygame, sys\n",
    "import time\n",
    "from pygame.locals import *\n",
    "from random import randint\n",
    "\n",
    "clock = pygame.time.Clock()\n",
    "\n",
    "nb_balles = 30\n",
    "\n",
    "ecran = (640,480)\n",
    "FPS = 30\n",
    "\n",
    "taille = 10\n",
    "\n",
    "pygame.display.init()\n",
    "fenetre = pygame.display.set_mode(ecran)\n",
    "fenetre.fill([0,0,0])\n",
    "\n",
    "class Balle :\n",
    "    def __init__(self):\n",
    "        self.x = randint(0,ecran[0])\n",
    "        self.y = randint(0,ecran[1])       \n",
    "        self.dx = randint(-5,5)\n",
    "        self.dy = randint(-5,5)\n",
    "        self.color = (255,255,255)\n",
    "        self.malade = False\n",
    "        self.taille = taille\n",
    "        \n",
    "    def move(self):\n",
    "        # mouvement de la balle self\n",
    "        self.x += self.dx\n",
    "        self.y += self.dy\n",
    "        \n",
    "        # rebond de la balle self\n",
    "        if self.x < self.taille or self.x > ecran[0]-self.taille :\n",
    "            self.dx = -self.dx\n",
    "        if self.y < self.taille or self.y > ecran[1]-self.taille :\n",
    "            self.dy = -self.dy\n",
    "            \n",
    "        # collision de la balle self avec les autres balles\n",
    "        for b in liste_balles :\n",
    "            if ((b.x-self.x)**2 + (b.y-self.y)**2)**0.5 < self.taille + b.taille :\n",
    "                # on échange les dx\n",
    "                b.dx, self.dx = self.dx, b.dx\n",
    "                # on échange les dy\n",
    "                b.dy, self.dy = self.dy, b.dy              \n",
    "        \n",
    "        \n",
    "    \n",
    "    def draw(self):\n",
    "        if self.malade == True :\n",
    "            self.color = (255,0,0)\n",
    "            \n",
    "        pygame.draw.circle(fenetre,self.color,\n",
    "                           (self.x,self.y),\n",
    "                           self.taille)\n",
    "\n",
    "liste_balles = []\n",
    "for k in range(nb_balles):\n",
    "    b = Balle()\n",
    "    liste_balles.append(b)  \n",
    "\n",
    "liste_balles[0].malade = True    \n",
    "    \n",
    "    \n",
    "while True :\n",
    "\n",
    "    fenetre.fill([0,0,0])\n",
    "    for b in liste_balles :\n",
    "        b.move()\n",
    "        b.draw() \n",
    "    \n",
    "\n",
    "    \n",
    "    pygame.display.flip()\n",
    "    \n",
    "    # routine pour pouvoir fermer «proprement» la fenêtre Pygame\n",
    "    for event in pygame.event.get():\n",
    "        if event.type == pygame.QUIT:\n",
    "            pygame.display.quit()\n",
    "            sys.exit()\n",
    "    \n",
    "    clock.tick(FPS)\n"
   ]
  },
  {
   "cell_type": "markdown",
   "metadata": {},
   "source": [
    "### 3.2 rajout d'une contamination en cas de collision"
   ]
  },
  {
   "cell_type": "code",
   "execution_count": 14,
   "metadata": {},
   "outputs": [
    {
     "ename": "SystemExit",
     "evalue": "",
     "output_type": "error",
     "traceback": [
      "An exception has occurred, use %tb to see the full traceback.\n",
      "\u001b[0;31mSystemExit\u001b[0m\n"
     ]
    },
    {
     "name": "stderr",
     "output_type": "stream",
     "text": [
      "/usr/local/lib/python3.8/dist-packages/IPython/core/interactiveshell.py:3339: UserWarning: To exit: use 'exit', 'quit', or Ctrl-D.\n",
      "  warn(\"To exit: use 'exit', 'quit', or Ctrl-D.\", stacklevel=1)\n"
     ]
    }
   ],
   "source": [
    "import pygame, sys\n",
    "import time\n",
    "from pygame.locals import *\n",
    "from random import randint\n",
    "\n",
    "clock = pygame.time.Clock()\n",
    "\n",
    "nb_balles = 30\n",
    "\n",
    "ecran = (640,480)\n",
    "FPS = 30\n",
    "\n",
    "taille = 10\n",
    "\n",
    "pygame.display.init()\n",
    "fenetre = pygame.display.set_mode(ecran)\n",
    "fenetre.fill([0,0,0])\n",
    "\n",
    "class Balle :\n",
    "    def __init__(self):\n",
    "        self.x = randint(0,ecran[0])\n",
    "        self.y = randint(0,ecran[1])       \n",
    "        self.dx = randint(-5,5)\n",
    "        self.dy = randint(-5,5)\n",
    "        self.color = (255,255,255)\n",
    "        self.malade = False\n",
    "        self.taille = taille\n",
    "        \n",
    "    def move(self):\n",
    "        # mouvement de la balle self\n",
    "        self.x += self.dx\n",
    "        self.y += self.dy\n",
    "        \n",
    "        # rebond de la balle self\n",
    "        if self.x < self.taille or self.x > ecran[0]-self.taille :\n",
    "            self.dx = -self.dx\n",
    "        if self.y < self.taille or self.y > ecran[1]-self.taille :\n",
    "            self.dy = -self.dy\n",
    "            \n",
    "        # collision de la balle self avec les autres balles\n",
    "        for b in liste_balles :\n",
    "            if ((b.x-self.x)**2 + (b.y-self.y)**2)**0.5 < self.taille + b.taille :\n",
    "                # on échange les dx\n",
    "                b.dx, self.dx = self.dx, b.dx\n",
    "                # on échange les dy\n",
    "                b.dy, self.dy = self.dy, b.dy \n",
    "                # contamination éventuelle\n",
    "                contamine(b,self)\n",
    "        \n",
    "        \n",
    "    \n",
    "    def draw(self):\n",
    "        if self.malade == True :\n",
    "            self.color = (255,0,0)\n",
    "            \n",
    "        pygame.draw.circle(fenetre,self.color,\n",
    "                           (self.x,self.y),\n",
    "                           self.taille)\n",
    "\n",
    "def contamine(b1, b2) :\n",
    "    if b1.malade == True or b2.malade == True :\n",
    "        b1.malade = True\n",
    "        b2.malade = True\n",
    "        \n",
    "        \n",
    "        \n",
    "liste_balles = []\n",
    "for k in range(nb_balles):\n",
    "    b = Balle()\n",
    "    liste_balles.append(b)  \n",
    "\n",
    "liste_balles[0].malade = True    \n",
    "    \n",
    "    \n",
    "while True :\n",
    "\n",
    "    fenetre.fill([0,0,0])\n",
    "    for b in liste_balles :\n",
    "        b.move()\n",
    "        b.draw() \n",
    "    \n",
    "\n",
    "    \n",
    "    pygame.display.flip()\n",
    "    \n",
    "    # routine pour pouvoir fermer «proprement» la fenêtre Pygame\n",
    "    for event in pygame.event.get():\n",
    "        if event.type == pygame.QUIT:\n",
    "            pygame.display.quit()\n",
    "            sys.exit()\n",
    "    \n",
    "    clock.tick(FPS)\n"
   ]
  },
  {
   "cell_type": "markdown",
   "metadata": {},
   "source": [
    "### 3.3 Étude de la vitesse de contamination"
   ]
  },
  {
   "cell_type": "code",
   "execution_count": 23,
   "metadata": {},
   "outputs": [
    {
     "data": {
      "text/plain": [
       "[<matplotlib.lines.Line2D at 0x7fc31ca6c7f0>]"
      ]
     },
     "execution_count": 23,
     "metadata": {},
     "output_type": "execute_result"
    },
    {
     "data": {
      "image/png": "[encoded data removed]",
      "text/plain": [
       "<Figure size 432x288 with 1 Axes>"
      ]
     },
     "metadata": {
      "needs_background": "light"
     },
     "output_type": "display_data"
    }
   ],
   "source": [
    "import pygame, sys\n",
    "import time\n",
    "from pygame.locals import *\n",
    "from random import randint\n",
    "\n",
    "clock = pygame.time.Clock()\n",
    "\n",
    "nb_balles = 80\n",
    "\n",
    "ecran = (640,480)\n",
    "FPS = 25\n",
    "\n",
    "taille = 10\n",
    "\n",
    "pygame.display.init()\n",
    "fenetre = pygame.display.set_mode(ecran)\n",
    "fenetre.fill([0,0,0])\n",
    "\n",
    "class Balle :\n",
    "    def __init__(self):\n",
    "        self.x = randint(0,ecran[0])\n",
    "        self.y = randint(0,ecran[1])       \n",
    "        self.dx = randint(-5,5)\n",
    "        self.dy = randint(-5,5)\n",
    "        self.color = (255,255,255)\n",
    "        self.malade = False\n",
    "        self.taille = taille\n",
    "        \n",
    "    def move(self):\n",
    "        # mouvement de la balle self\n",
    "        self.x += self.dx\n",
    "        self.y += self.dy\n",
    "        \n",
    "        # rebond de la balle self\n",
    "        if self.x < self.taille or self.x > ecran[0]-self.taille :\n",
    "            self.dx = -self.dx\n",
    "        if self.y < self.taille or self.y > ecran[1]-self.taille :\n",
    "            self.dy = -self.dy\n",
    "            \n",
    "        # collision de la balle self avec les autres balles\n",
    "        for b in liste_balles :\n",
    "            if ((b.x-self.x)**2 + (b.y-self.y)**2)**0.5 < self.taille + b.taille :\n",
    "                # on échange les dx\n",
    "                b.dx, self.dx = self.dx, b.dx\n",
    "                # on échange les dy\n",
    "                b.dy, self.dy = self.dy, b.dy \n",
    "                # contamination éventuelle\n",
    "                contamine(b,self)\n",
    "        \n",
    "        \n",
    "    \n",
    "    def draw(self):\n",
    "        if self.malade == True :\n",
    "            self.color = (255,0,0)\n",
    "            \n",
    "        pygame.draw.circle(fenetre,self.color,\n",
    "                           (self.x,self.y),\n",
    "                           self.taille)\n",
    "\n",
    "def contamine(b1, b2) :\n",
    "    if b1.malade == True or b2.malade == True :\n",
    "        b1.malade = True\n",
    "        b2.malade = True\n",
    "        \n",
    "        \n",
    "        \n",
    "liste_balles = []\n",
    "for k in range(nb_balles):\n",
    "    b = Balle()\n",
    "    liste_balles.append(b)  \n",
    "\n",
    "liste_balles[0].malade = True    \n",
    "\n",
    "def nombre_malades():\n",
    "    s = 0\n",
    "    for b in liste_balles :\n",
    "        if b.malade == True :\n",
    "            s += 1\n",
    "    return s\n",
    "\n",
    "liste_nb_malades = []\n",
    "\n",
    "c = 0\n",
    "\n",
    "while c < 25*10 :\n",
    "    c += 1\n",
    "    \n",
    "    fenetre.fill([0,0,0])\n",
    "    for b in liste_balles :\n",
    "        b.move()\n",
    "        b.draw() \n",
    "    \n",
    "    #print(nombre_malades())\n",
    "\n",
    "    \n",
    "    pygame.display.flip()\n",
    "    \n",
    "    # routine pour pouvoir fermer «proprement» la fenêtre Pygame\n",
    "    \n",
    "    if c % 25 == 0 :\n",
    "        liste_nb_malades.append(nombre_malades())\n",
    "    \n",
    "    for event in pygame.event.get():\n",
    "        if event.type == pygame.QUIT:\n",
    "            pygame.display.quit()\n",
    "            sys.exit()\n",
    "    \n",
    "    clock.tick(FPS)\n",
    "    \n",
    "    \n",
    "pygame.display.quit()\n",
    "#sys.exit()\n",
    "\n",
    "x=[k for k in range(10)]\n",
    "plt.xlabel('temps en secondes')\n",
    "plt.ylabel('nombre de balles contaminées')\n",
    "plt.plot(x,liste_nb_malades, marker = 'o', c = 'blue',  markersize = 10)\n"
   ]
  },
  {
   "cell_type": "code",
   "execution_count": null,
   "metadata": {},
   "outputs": [],
   "source": []
  }
 ],
 "metadata": {
  "colab": {
   "collapsed_sections": [],
   "name": "Copie de 3_TP_balles_rebondissantes.ipynb",
   "provenance": [
    {
     "file_id": "https://github.com/glassus/nsi/blob/master/Terminale/Theme_2_Programmation/2.1_Programmation_Orientee_Objet/3_TP_balles_rebondissantes.ipynb",
     "timestamp": 1600177653197
    }
   ]
  },
  "kernelspec": {
   "display_name": "Python 3",
   "language": "python",
   "name": "python3"
  },
  "language_info": {
   "codemirror_mode": {
    "name": "ipython",
    "version": 3
   },
   "file_extension": ".py",
   "mimetype": "text/x-python",
   "name": "python",
   "nbconvert_exporter": "python",
   "pygments_lexer": "ipython3",
   "version": "3.8.10"
  }
 },
 "nbformat": 4,
 "nbformat_minor": 1
}
